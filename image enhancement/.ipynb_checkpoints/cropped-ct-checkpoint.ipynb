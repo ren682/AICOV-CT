{
 "cells": [
  {
   "cell_type": "code",
   "execution_count": null,
   "metadata": {
    "execution": {
     "iopub.execute_input": "2022-08-03T13:42:15.204147Z",
     "iopub.status.busy": "2022-08-03T13:42:15.203445Z",
     "iopub.status.idle": "2022-08-03T13:42:15.561667Z",
     "shell.execute_reply": "2022-08-03T13:42:15.562305Z",
     "shell.execute_reply.started": "2022-08-03T13:37:40.405212Z"
    },
    "papermill": {
     "duration": 0.381449,
     "end_time": "2022-08-03T13:42:15.562501",
     "exception": false,
     "start_time": "2022-08-03T13:42:15.181052",
     "status": "completed"
    },
    "tags": []
   },
   "outputs": [],
   "source": [
    "import os\n",
    "import cv2\n",
    "import numpy as np\n",
    "import matplotlib.pyplot as plt\n",
    "from tqdm.notebook import tqdm\n",
    "from pandas.core.frame import DataFrame\n",
    "import pandas as pd\n",
    "from joblib import Parallel, delayed\n",
    "import shutil"
   ]
  },
  {
   "cell_type": "code",
   "execution_count": null,
   "metadata": {
    "_cell_guid": "b1076dfc-b9ad-4769-8c92-a6c4dae69d19",
    "_uuid": "8f2839f25d086af736a60e9eeb907d3b93b6e0e5",
    "execution": {
     "iopub.execute_input": "2022-08-03T13:42:15.604767Z",
     "iopub.status.busy": "2022-08-03T13:42:15.604078Z",
     "iopub.status.idle": "2022-08-03T13:42:15.612670Z",
     "shell.execute_reply": "2022-08-03T13:42:15.611991Z",
     "shell.execute_reply.started": "2022-08-03T13:37:40.902158Z"
    },
    "papermill": {
     "duration": 0.030733,
     "end_time": "2022-08-03T13:42:15.612829",
     "exception": false,
     "start_time": "2022-08-03T13:42:15.582096",
     "status": "completed"
    },
    "tags": []
   },
   "outputs": [],
   "source": [
    "def load_labels(label_file):\n",
    "    \"\"\"Loads image filenames, classes, and bounding boxes\"\"\"\n",
    "    fnames, classes, bboxes = [], [], []\n",
    "    with open(label_file, 'r') as f:    \n",
    "        for line in f.readlines():     \n",
    "            fname, cls, xmin, ymin, xmax, ymax = line.strip('\\n').split()\n",
    "            fnames.append(fname)\n",
    "            classes.append(int(cls))\n",
    "            bboxes.append((int(xmin), int(ymin), int(xmax), int(ymax)))\n",
    "    return fnames, classes, bboxes"
   ]
  },
  {
   "cell_type": "markdown",
   "metadata": {
    "papermill": {
     "duration": 0.019055,
     "end_time": "2022-08-03T13:42:15.651513",
     "exception": false,
     "start_time": "2022-08-03T13:42:15.632458",
     "status": "completed"
    },
    "tags": []
   },
   "source": [
    "Let's try loading some images from the dataset and displaying their class labels and bounding boxes:"
   ]
  },
  {
   "cell_type": "code",
   "execution_count": null,
   "metadata": {
    "execution": {
     "iopub.execute_input": "2022-08-03T13:42:15.693325Z",
     "iopub.status.busy": "2022-08-03T13:42:15.692626Z",
     "iopub.status.idle": "2022-08-03T13:42:16.594349Z",
     "shell.execute_reply": "2022-08-03T13:42:16.593255Z",
     "shell.execute_reply.started": "2022-08-03T13:37:42.127231Z"
    },
    "papermill": {
     "duration": 0.92365,
     "end_time": "2022-08-03T13:42:16.594494",
     "exception": false,
     "start_time": "2022-08-03T13:42:15.670844",
     "status": "completed"
    },
    "tags": []
   },
   "outputs": [],
   "source": [
    "# Set path\n",
    "image_dir = '/kaggle/input/covidxct/3A_images'\n",
    "label_file = '/kaggle/input/covidxct/train_COVIDx_CT-3A.txt'\n",
    "\n",
    "# Load labels\n",
    "fnames, classes, bboxes = load_labels(label_file)"
   ]
  },
  {
   "cell_type": "code",
   "execution_count": null,
   "metadata": {
    "execution": {
     "iopub.execute_input": "2022-08-03T13:42:16.640355Z",
     "iopub.status.busy": "2022-08-03T13:42:16.639383Z",
     "iopub.status.idle": "2022-08-03T13:42:16.643494Z",
     "shell.execute_reply": "2022-08-03T13:42:16.644028Z",
     "shell.execute_reply.started": "2022-08-03T13:37:43.278153Z"
    },
    "papermill": {
     "duration": 0.029974,
     "end_time": "2022-08-03T13:42:16.644178",
     "exception": false,
     "start_time": "2022-08-03T13:42:16.614204",
     "status": "completed"
    },
    "tags": []
   },
   "outputs": [],
   "source": [
    "len(fnames)"
   ]
  },
  {
   "cell_type": "code",
   "execution_count": null,
   "metadata": {
    "execution": {
     "iopub.execute_input": "2022-08-03T13:42:16.689966Z",
     "iopub.status.busy": "2022-08-03T13:42:16.689004Z",
     "iopub.status.idle": "2022-08-03T13:42:17.182219Z",
     "shell.execute_reply": "2022-08-03T13:42:17.181609Z",
     "shell.execute_reply.started": "2022-08-03T13:37:43.290778Z"
    },
    "papermill": {
     "duration": 0.517926,
     "end_time": "2022-08-03T13:42:17.182344",
     "exception": false,
     "start_time": "2022-08-03T13:42:16.664418",
     "status": "completed"
    },
    "tags": []
   },
   "outputs": [],
   "source": [
    "df_fnames=DataFrame(fnames) \n",
    "df_classes=DataFrame(classes) \n",
    "df_bboxes=DataFrame(bboxes) \n",
    "data=pd.concat([df_fnames,df_classes,df_bboxes],axis=1)"
   ]
  },
  {
   "cell_type": "code",
   "execution_count": null,
   "metadata": {
    "execution": {
     "iopub.execute_input": "2022-08-03T13:42:17.225898Z",
     "iopub.status.busy": "2022-08-03T13:42:17.225252Z",
     "iopub.status.idle": "2022-08-03T13:42:17.249924Z",
     "shell.execute_reply": "2022-08-03T13:42:17.249375Z",
     "shell.execute_reply.started": "2022-08-03T13:37:43.854628Z"
    },
    "papermill": {
     "duration": 0.047929,
     "end_time": "2022-08-03T13:42:17.250060",
     "exception": false,
     "start_time": "2022-08-03T13:42:17.202131",
     "status": "completed"
    },
    "tags": []
   },
   "outputs": [],
   "source": [
    "data.columns = ['image_id', 'class', 'xmin','ymin','xmax','ymax']\n",
    "data"
   ]
  },
  {
   "cell_type": "code",
   "execution_count": null,
   "metadata": {
    "execution": {
     "iopub.execute_input": "2022-08-03T13:42:17.294350Z",
     "iopub.status.busy": "2022-08-03T13:42:17.293640Z",
     "iopub.status.idle": "2022-08-03T13:42:17.300642Z",
     "shell.execute_reply": "2022-08-03T13:42:17.301571Z",
     "shell.execute_reply.started": "2022-08-03T13:41:01.307619Z"
    },
    "papermill": {
     "duration": 0.030982,
     "end_time": "2022-08-03T13:42:17.301821",
     "exception": false,
     "start_time": "2022-08-03T13:42:17.270839",
     "status": "completed"
    },
    "tags": []
   },
   "outputs": [],
   "source": [
    "print(data.iloc[0:115000].shape)\n",
    "print(data.iloc[115000:230000].shape)\n",
    "print(data.iloc[230000:].shape)"
   ]
  },
  {
   "cell_type": "code",
   "execution_count": null,
   "metadata": {
    "execution": {
     "iopub.execute_input": "2022-08-03T13:42:17.346803Z",
     "iopub.status.busy": "2022-08-03T13:42:17.346132Z",
     "iopub.status.idle": "2022-08-03T13:42:18.417228Z",
     "shell.execute_reply": "2022-08-03T13:42:18.416443Z",
     "shell.execute_reply.started": "2022-08-03T07:35:54.502056Z"
    },
    "papermill": {
     "duration": 1.094112,
     "end_time": "2022-08-03T13:42:18.417358",
     "exception": false,
     "start_time": "2022-08-03T13:42:17.323246",
     "status": "completed"
    },
    "tags": []
   },
   "outputs": [],
   "source": [
    "!mkdir -p /tmp/train_images && mkdir -p /tmp/test_images && mkdir -p /tmp/val_images"
   ]
  },
  {
   "cell_type": "code",
   "execution_count": null,
   "metadata": {
    "execution": {
     "iopub.execute_input": "2022-08-03T13:42:18.466534Z",
     "iopub.status.busy": "2022-08-03T13:42:18.465869Z",
     "iopub.status.idle": "2022-08-03T13:42:18.468181Z",
     "shell.execute_reply": "2022-08-03T13:42:18.468792Z",
     "shell.execute_reply.started": "2022-08-03T06:42:00.090662Z"
    },
    "papermill": {
     "duration": 0.030982,
     "end_time": "2022-08-03T13:42:18.468949",
     "exception": false,
     "start_time": "2022-08-03T13:42:18.437967",
     "status": "completed"
    },
    "tags": []
   },
   "outputs": [],
   "source": [
    "def crop_image_val(row):\n",
    "    #image_path = row['image_path']\n",
    "    image_dir = '/kaggle/input/covidxct/3A_images'\n",
    "    image_path = os.path.join(image_dir, row['image_id'])\n",
    "    save_dir = '/tmp/train_images'       #File Storage Path\n",
    "    image = cv2.imread(image_path, cv2.IMREAD_UNCHANGED)\n",
    "    xmin = row['xmin']\n",
    "    ymin = row['ymin']\n",
    "    xmax = row['xmax']\n",
    "    ymax = row['ymax']\n",
    "    \n",
    "    img = image[ymin:ymax, xmin:xmax] # Cropped images\n",
    "    cv2.imwrite(f'{save_dir}/{row.image_id}', img) # Save images\n",
    "    return"
   ]
  },
  {
   "cell_type": "code",
   "execution_count": null,
   "metadata": {
    "execution": {
     "iopub.execute_input": "2022-08-03T13:42:18.512972Z",
     "iopub.status.busy": "2022-08-03T13:42:18.512320Z",
     "iopub.status.idle": "2022-08-03T13:52:11.453120Z",
     "shell.execute_reply": "2022-08-03T13:52:11.453852Z",
     "shell.execute_reply.started": "2022-08-03T06:42:00.100364Z"
    },
    "papermill": {
     "duration": 592.964841,
     "end_time": "2022-08-03T13:52:11.454237",
     "exception": false,
     "start_time": "2022-08-03T13:42:18.489396",
     "status": "completed"
    },
    "tags": []
   },
   "outputs": [],
   "source": [
    "_ = Parallel(n_jobs=-1, backend='threading')(delayed(crop_image_val)(row)\\\n",
    "                                             for _, row in tqdm(data.iterrows(), total=len(data), desc='val'))"
   ]
  },
  {
   "cell_type": "code",
   "execution_count": null,
   "metadata": {
    "execution": {
     "iopub.execute_input": "2022-08-03T13:52:11.506193Z",
     "iopub.status.busy": "2022-08-03T13:52:11.505178Z",
     "iopub.status.idle": "2022-08-03T14:02:19.935740Z",
     "shell.execute_reply": "2022-08-03T14:02:19.936422Z",
     "shell.execute_reply.started": "2022-08-03T06:47:26.174890Z"
    },
    "papermill": {
     "duration": 608.456818,
     "end_time": "2022-08-03T14:02:19.936640",
     "exception": false,
     "start_time": "2022-08-03T13:52:11.479822",
     "status": "completed"
    },
    "tags": []
   },
   "outputs": [],
   "source": [
    "shutil.make_archive(base_name='/kaggle/working/train_images',\n",
    "                    format='zip',\n",
    "                    root_dir='/tmp/',\n",
    "                    base_dir='train_images')"
   ]
  },
  {
   "cell_type": "code",
   "execution_count": null,
   "metadata": {
    "execution": {
     "iopub.execute_input": "2022-08-03T14:02:20.063251Z",
     "iopub.status.busy": "2022-08-03T14:02:20.062076Z",
     "iopub.status.idle": "2022-08-03T14:02:22.203752Z",
     "shell.execute_reply": "2022-08-03T14:02:22.204359Z",
     "shell.execute_reply.started": "2022-08-03T01:23:00.729215Z"
    },
    "papermill": {
     "duration": 2.245344,
     "end_time": "2022-08-03T14:02:22.204522",
     "exception": false,
     "start_time": "2022-08-03T14:02:19.959178",
     "status": "completed"
    },
    "tags": []
   },
   "outputs": [],
   "source": [
    "# Select cases to view\n",
    "np.random.seed(27)   \n",
    "indices = np.random.choice(list(range(len(fnames))), 9)  \n",
    "\n",
    "# Show a grid of 9 images\n",
    "fig, axes = plt.subplots(3, 3, figsize=(16, 16))  \n",
    "class_names = ('Normal', 'Pneumonia', 'COVID-19')\n",
    "for index, ax in zip(indices, axes.ravel()):   \n",
    "    image_file = os.path.join(image_dir, fnames[index])   \n",
    "    image = cv2.imread(image_file, cv2.IMREAD_UNCHANGED)\n",
    "    image = np.stack([image]*3, axis=-1)  # make image 3-channel\n",
    "    bbox = bboxes[index]\n",
    "    cv2.rectangle(image, bbox[:2], bbox[2:], color=(255, 0, 0), thickness=3)\n",
    "    # Display\n",
    "    cls = classes[index]\n",
    "    ax.imshow(image)\n",
    "    ax.set_title('Class: {} ({})'.format(class_names[cls], cls))\n",
    "plt.show()"
   ]
  },
  {
   "cell_type": "markdown",
   "metadata": {
    "papermill": {
     "duration": 1.049628,
     "end_time": "2022-08-03T14:02:23.297766",
     "exception": false,
     "start_time": "2022-08-03T14:02:22.248138",
     "status": "completed"
    },
    "tags": []
   },
   "source": [
    "Cutting show"
   ]
  },
  {
   "cell_type": "code",
   "execution_count": null,
   "metadata": {
    "execution": {
     "iopub.execute_input": "2022-08-03T14:02:23.386641Z",
     "iopub.status.busy": "2022-08-03T14:02:23.385625Z",
     "iopub.status.idle": "2022-08-03T14:02:23.391422Z",
     "shell.execute_reply": "2022-08-03T14:02:23.392093Z",
     "shell.execute_reply.started": "2022-08-03T06:35:06.524518Z"
    },
    "papermill": {
     "duration": 0.052075,
     "end_time": "2022-08-03T14:02:23.392258",
     "exception": false,
     "start_time": "2022-08-03T14:02:23.340183",
     "status": "completed"
    },
    "tags": []
   },
   "outputs": [],
   "source": [
    "pwd"
   ]
  },
  {
   "cell_type": "code",
   "execution_count": null,
   "metadata": {
    "execution": {
     "iopub.execute_input": "2022-08-03T14:02:23.541298Z",
     "iopub.status.busy": "2022-08-03T14:02:23.540493Z",
     "iopub.status.idle": "2022-08-03T14:02:25.894399Z",
     "shell.execute_reply": "2022-08-03T14:02:25.894931Z",
     "shell.execute_reply.started": "2022-08-03T01:23:02.670286Z"
    },
    "papermill": {
     "duration": 2.459985,
     "end_time": "2022-08-03T14:02:25.895088",
     "exception": false,
     "start_time": "2022-08-03T14:02:23.435103",
     "status": "completed"
    },
    "tags": []
   },
   "outputs": [],
   "source": [
    "# Select cases to view\n",
    "np.random.seed(27)   \n",
    "indices = np.random.choice(list(range(len(fnames))), 9)  \n",
    "\n",
    "# Show a grid of 9 images\n",
    "class_names = ('Normal', 'Pneumonia', 'COVID-19')\n",
    "for index, ax in zip(indices, axes.ravel()):\n",
    "    plt.figure(figsize=(10, 5))\n",
    "    plt.subplot(1, 2, 1)\n",
    "    image_file = os.path.join(image_dir, fnames[index])   \n",
    "    ID = fnames[index].split(\".\")[0]\n",
    "    image = cv2.imread(image_file, cv2.IMREAD_UNCHANGED)\n",
    "    image = np.stack([image]*3, axis=-1)  # make image 3-channel\n",
    "    bbox = bboxes[index]\n",
    "    dim = np.sqrt(np.prod(image.shape[:2]))\n",
    "    line_thickness = int(2/512*dim)\n",
    "    cv2.rectangle(image, bbox[:2], bbox[2:], color=(255, 0, 0), thickness=line_thickness)\n",
    "\n",
    "    # Display\n",
    "    cls = classes[index]\n",
    "    plt.imshow(image)\n",
    "    plt.title('Before;Class: {} ({})'.format(class_names[cls], cls))\n",
    "    plt.axis('off')\n",
    "    plt.subplot(1, 2, 2)\n",
    "    xmin, ymin, xmax, ymax = bbox\n",
    "    plt.imshow(image[ymin:ymax, xmin:xmax])\n",
    "    plt.title('After;Class: {} ({})'.format(class_names[cls], cls))\n",
    "    plt.axis('off')\n",
    "    plt.suptitle(f'id: {ID}', y=1.04)\n",
    "    plt.tight_layout()\n",
    "    plt.show()"
   ]
  },
  {
   "cell_type": "code",
   "execution_count": null,
   "metadata": {
    "papermill": {
     "duration": 0.107832,
     "end_time": "2022-08-03T14:02:30.016535",
     "exception": false,
     "start_time": "2022-08-03T14:02:29.908703",
     "status": "completed"
    },
    "tags": []
   },
   "outputs": [],
   "source": []
  }
 ],
 "metadata": {
  "kernelspec": {
   "display_name": "Python 3",
   "language": "python",
   "name": "python3"
  },
  "language_info": {
   "codemirror_mode": {
    "name": "ipython",
    "version": 3
   },
   "file_extension": ".py",
   "mimetype": "text/x-python",
   "name": "python",
   "nbconvert_exporter": "python",
   "pygments_lexer": "ipython3",
   "version": "3.8.3"
  },
  "papermill": {
   "duration": 1219.661857,
   "end_time": "2022-08-03T14:02:30.263144",
   "environment_variables": {},
   "exception": null,
   "input_path": "__notebook__.ipynb",
   "output_path": "__notebook__.ipynb",
   "parameters": {},
   "start_time": "2022-08-03T13:42:10.601287",
   "version": "2.1.0"
  },
  "widgets": {
   "application/vnd.jupyter.widget-state+json": {
    "state": {
     "12e06c08054446259132ad5e49daeecf": {
      "model_module": "@jupyter-widgets/controls",
      "model_module_version": "1.5.0",
      "model_name": "HTMLModel",
      "state": {
       "_dom_classes": [],
       "_model_module": "@jupyter-widgets/controls",
       "_model_module_version": "1.5.0",
       "_model_name": "HTMLModel",
       "_view_count": null,
       "_view_module": "@jupyter-widgets/controls",
       "_view_module_version": "1.5.0",
       "_view_name": "HTMLView",
       "description": "",
       "description_tooltip": null,
       "layout": "IPY_MODEL_85249537f786436191e14ce607af38ba",
       "placeholder": "​",
       "style": "IPY_MODEL_413ebbcf74dc46aa96f7d059d444ae79",
       "value": " 115000/115000 [13:14&lt;00:00, 144.82it/s]"
      }
     },
     "413ebbcf74dc46aa96f7d059d444ae79": {
      "model_module": "@jupyter-widgets/controls",
      "model_module_version": "1.5.0",
      "model_name": "DescriptionStyleModel",
      "state": {
       "_model_module": "@jupyter-widgets/controls",
       "_model_module_version": "1.5.0",
       "_model_name": "DescriptionStyleModel",
       "_view_count": null,
       "_view_module": "@jupyter-widgets/base",
       "_view_module_version": "1.2.0",
       "_view_name": "StyleView",
       "description_width": ""
      }
     },
     "4d6ca9118f744b83befabd97e0e26256": {
      "model_module": "@jupyter-widgets/controls",
      "model_module_version": "1.5.0",
      "model_name": "FloatProgressModel",
      "state": {
       "_dom_classes": [],
       "_model_module": "@jupyter-widgets/controls",
       "_model_module_version": "1.5.0",
       "_model_name": "FloatProgressModel",
       "_view_count": null,
       "_view_module": "@jupyter-widgets/controls",
       "_view_module_version": "1.5.0",
       "_view_name": "ProgressView",
       "bar_style": "success",
       "description": "val: 100%",
       "description_tooltip": null,
       "layout": "IPY_MODEL_e8a3f9f0c3984281bfa87e07854971a7",
       "max": 115000,
       "min": 0,
       "orientation": "horizontal",
       "style": "IPY_MODEL_840b97f8f0a34b09b720d10e85718ea0",
       "value": 115000
      }
     },
     "840b97f8f0a34b09b720d10e85718ea0": {
      "model_module": "@jupyter-widgets/controls",
      "model_module_version": "1.5.0",
      "model_name": "ProgressStyleModel",
      "state": {
       "_model_module": "@jupyter-widgets/controls",
       "_model_module_version": "1.5.0",
       "_model_name": "ProgressStyleModel",
       "_view_count": null,
       "_view_module": "@jupyter-widgets/base",
       "_view_module_version": "1.2.0",
       "_view_name": "StyleView",
       "bar_color": null,
       "description_width": "initial"
      }
     },
     "85249537f786436191e14ce607af38ba": {
      "model_module": "@jupyter-widgets/base",
      "model_module_version": "1.2.0",
      "model_name": "LayoutModel",
      "state": {
       "_model_module": "@jupyter-widgets/base",
       "_model_module_version": "1.2.0",
       "_model_name": "LayoutModel",
       "_view_count": null,
       "_view_module": "@jupyter-widgets/base",
       "_view_module_version": "1.2.0",
       "_view_name": "LayoutView",
       "align_content": null,
       "align_items": null,
       "align_self": null,
       "border": null,
       "bottom": null,
       "display": null,
       "flex": null,
       "flex_flow": null,
       "grid_area": null,
       "grid_auto_columns": null,
       "grid_auto_flow": null,
       "grid_auto_rows": null,
       "grid_column": null,
       "grid_gap": null,
       "grid_row": null,
       "grid_template_areas": null,
       "grid_template_columns": null,
       "grid_template_rows": null,
       "height": null,
       "justify_content": null,
       "justify_items": null,
       "left": null,
       "margin": null,
       "max_height": null,
       "max_width": null,
       "min_height": null,
       "min_width": null,
       "object_fit": null,
       "object_position": null,
       "order": null,
       "overflow": null,
       "overflow_x": null,
       "overflow_y": null,
       "padding": null,
       "right": null,
       "top": null,
       "visibility": null,
       "width": null
      }
     },
     "9cf180fffc0f446ca1f0963649d1a494": {
      "model_module": "@jupyter-widgets/controls",
      "model_module_version": "1.5.0",
      "model_name": "HBoxModel",
      "state": {
       "_dom_classes": [],
       "_model_module": "@jupyter-widgets/controls",
       "_model_module_version": "1.5.0",
       "_model_name": "HBoxModel",
       "_view_count": null,
       "_view_module": "@jupyter-widgets/controls",
       "_view_module_version": "1.5.0",
       "_view_name": "HBoxView",
       "box_style": "",
       "children": [
        "IPY_MODEL_4d6ca9118f744b83befabd97e0e26256",
        "IPY_MODEL_12e06c08054446259132ad5e49daeecf"
       ],
       "layout": "IPY_MODEL_f1ca92ed62534a4db9abb830a46bf22e"
      }
     },
     "e8a3f9f0c3984281bfa87e07854971a7": {
      "model_module": "@jupyter-widgets/base",
      "model_module_version": "1.2.0",
      "model_name": "LayoutModel",
      "state": {
       "_model_module": "@jupyter-widgets/base",
       "_model_module_version": "1.2.0",
       "_model_name": "LayoutModel",
       "_view_count": null,
       "_view_module": "@jupyter-widgets/base",
       "_view_module_version": "1.2.0",
       "_view_name": "LayoutView",
       "align_content": null,
       "align_items": null,
       "align_self": null,
       "border": null,
       "bottom": null,
       "display": null,
       "flex": null,
       "flex_flow": null,
       "grid_area": null,
       "grid_auto_columns": null,
       "grid_auto_flow": null,
       "grid_auto_rows": null,
       "grid_column": null,
       "grid_gap": null,
       "grid_row": null,
       "grid_template_areas": null,
       "grid_template_columns": null,
       "grid_template_rows": null,
       "height": null,
       "justify_content": null,
       "justify_items": null,
       "left": null,
       "margin": null,
       "max_height": null,
       "max_width": null,
       "min_height": null,
       "min_width": null,
       "object_fit": null,
       "object_position": null,
       "order": null,
       "overflow": null,
       "overflow_x": null,
       "overflow_y": null,
       "padding": null,
       "right": null,
       "top": null,
       "visibility": null,
       "width": null
      }
     },
     "f1ca92ed62534a4db9abb830a46bf22e": {
      "model_module": "@jupyter-widgets/base",
      "model_module_version": "1.2.0",
      "model_name": "LayoutModel",
      "state": {
       "_model_module": "@jupyter-widgets/base",
       "_model_module_version": "1.2.0",
       "_model_name": "LayoutModel",
       "_view_count": null,
       "_view_module": "@jupyter-widgets/base",
       "_view_module_version": "1.2.0",
       "_view_name": "LayoutView",
       "align_content": null,
       "align_items": null,
       "align_self": null,
       "border": null,
       "bottom": null,
       "display": null,
       "flex": null,
       "flex_flow": null,
       "grid_area": null,
       "grid_auto_columns": null,
       "grid_auto_flow": null,
       "grid_auto_rows": null,
       "grid_column": null,
       "grid_gap": null,
       "grid_row": null,
       "grid_template_areas": null,
       "grid_template_columns": null,
       "grid_template_rows": null,
       "height": null,
       "justify_content": null,
       "justify_items": null,
       "left": null,
       "margin": null,
       "max_height": null,
       "max_width": null,
       "min_height": null,
       "min_width": null,
       "object_fit": null,
       "object_position": null,
       "order": null,
       "overflow": null,
       "overflow_x": null,
       "overflow_y": null,
       "padding": null,
       "right": null,
       "top": null,
       "visibility": null,
       "width": null
      }
     }
    },
    "version_major": 2,
    "version_minor": 0
   }
  }
 },
 "nbformat": 4,
 "nbformat_minor": 4
}
