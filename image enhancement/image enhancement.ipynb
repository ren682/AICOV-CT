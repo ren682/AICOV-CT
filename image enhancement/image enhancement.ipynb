{
 "cells": [
  {
   "cell_type": "code",
   "execution_count": null,
   "metadata": {
    "execution": {
     "iopub.execute_input": "2022-08-19T10:41:23.535999Z",
     "iopub.status.busy": "2022-08-19T10:41:23.534206Z",
     "iopub.status.idle": "2022-08-19T10:41:31.379209Z",
     "shell.execute_reply": "2022-08-19T10:41:31.379752Z",
     "shell.execute_reply.started": "2022-08-19T07:54:20.336842Z"
    },
    "papermill": {
     "duration": 7.862361,
     "end_time": "2022-08-19T10:41:31.380127",
     "exception": false,
     "start_time": "2022-08-19T10:41:23.517766",
     "status": "completed"
    },
    "tags": []
   },
   "outputs": [],
   "source": [
    "import os\n",
    "import time\n",
    "import copy\n",
    "import numpy as np\n",
    "import pandas as pd\n",
    "from PIL import Image\n",
    "import torch,torchvision\n",
    "import torch.nn as nn\n",
    "import torch.nn.functional as F\n",
    "from torch.utils.data import DataLoader, Dataset\n",
    "from torchvision import datasets,models,transforms\n",
    "import torch.optim as optim\n",
    "# from torchsummary import summary\n",
    "import matplotlib.pyplot as plt\n",
    "from sklearn.model_selection import train_test_split\n",
    "from sklearn.utils import resample\n",
    "from sklearn.utils import shuffle\n",
    "from sklearn.metrics import confusion_matrix\n",
    "from torch.nn import Parameter\n",
    "\n",
    "import numpy as np\n",
    "import matplotlib.pyplot as plt\n",
    "import os\n",
    "import cv2\n",
    "import random\n",
    "import itertools\n",
    "\n",
    "from joblib import Parallel, delayed\n",
    "\n",
    "import warnings\n",
    "warnings.filterwarnings('ignore')\n",
    "\n",
    "import tensorflow as tf\n",
    "from tensorflow.keras import *\n",
    "from tensorflow.keras.layers import *\n",
    "from tensorflow.keras.models import *\n",
    "from tensorflow.keras.callbacks import *\n",
    "from tensorflow.keras.optimizers import *\n",
    "from tensorflow.keras.utils import to_categorical\n",
    "from tensorflow.keras.metrics import categorical_crossentropy\n",
    "from tensorflow.keras.layers.experimental.preprocessing import RandomFlip, RandomRotation\n",
    "\n",
    "from sklearn.metrics import accuracy_score, confusion_matrix, classification_report\n",
    "import shutil\n",
    "from scipy.fftpack import dct, idct"
   ]
  },
  {
   "cell_type": "code",
   "execution_count": null,
   "metadata": {
    "execution": {
     "iopub.execute_input": "2022-08-19T10:41:31.406318Z",
     "iopub.status.busy": "2022-08-19T10:41:31.405340Z",
     "iopub.status.idle": "2022-08-19T10:41:31.938517Z",
     "shell.execute_reply": "2022-08-19T10:41:31.937510Z",
     "shell.execute_reply.started": "2022-08-19T07:57:04.531850Z"
    },
    "papermill": {
     "duration": 0.546914,
     "end_time": "2022-08-19T10:41:31.938688",
     "exception": false,
     "start_time": "2022-08-19T10:41:31.391774",
     "status": "completed"
    },
    "tags": []
   },
   "outputs": [],
   "source": [
    "# 读取train.txt\n",
    "train_df = pd.read_csv('../input/covidxct/train_COVIDx_CT-3A.txt', sep=\" \", header=None)\n",
    "train_df.columns=['filename', 'label', 'xmin','ymin','xmax','ymax']\n",
    "train_df=train_df.drop(['xmin', 'ymin','xmax', 'ymax'], axis=1 )"
   ]
  },
  {
   "cell_type": "code",
   "execution_count": null,
   "metadata": {
    "execution": {
     "iopub.execute_input": "2022-08-19T10:41:31.975541Z",
     "iopub.status.busy": "2022-08-19T10:41:31.974605Z",
     "iopub.status.idle": "2022-08-19T10:41:31.978242Z",
     "shell.execute_reply": "2022-08-19T10:41:31.978735Z",
     "shell.execute_reply.started": "2022-08-19T07:57:06.312524Z"
    },
    "papermill": {
     "duration": 0.02951,
     "end_time": "2022-08-19T10:41:31.978913",
     "exception": false,
     "start_time": "2022-08-19T10:41:31.949403",
     "status": "completed"
    },
    "tags": []
   },
   "outputs": [],
   "source": [
    "# labels={0:'Normal',1:'Pneumonia',2:'COVID-19'}\n",
    "train_df.head()\n",
    "train_df.label.value_counts()"
   ]
  },
  {
   "cell_type": "code",
   "execution_count": null,
   "metadata": {
    "execution": {
     "iopub.execute_input": "2022-08-19T10:41:32.004116Z",
     "iopub.status.busy": "2022-08-19T10:41:32.003195Z",
     "iopub.status.idle": "2022-08-19T10:41:32.079717Z",
     "shell.execute_reply": "2022-08-19T10:41:32.079044Z",
     "shell.execute_reply.started": "2022-08-19T07:57:08.191104Z"
    },
    "papermill": {
     "duration": 0.090018,
     "end_time": "2022-08-19T10:41:32.079864",
     "exception": false,
     "start_time": "2022-08-19T10:41:31.989846",
     "status": "completed"
    },
    "tags": []
   },
   "outputs": [],
   "source": [
    "image_path = '../input/covidxct/3A_images/'  #directory path\n",
    "train_df['filename'] = image_path+train_df['filename']\n",
    "train_df.shape"
   ]
  },
  {
   "cell_type": "code",
   "execution_count": null,
   "metadata": {
    "execution": {
     "iopub.execute_input": "2022-08-19T10:41:32.106582Z",
     "iopub.status.busy": "2022-08-19T10:41:32.105906Z",
     "iopub.status.idle": "2022-08-19T10:41:32.121264Z",
     "shell.execute_reply": "2022-08-19T10:41:32.121779Z",
     "shell.execute_reply.started": "2022-08-19T07:57:14.232073Z"
    },
    "papermill": {
     "duration": 0.030929,
     "end_time": "2022-08-19T10:41:32.121970",
     "exception": false,
     "start_time": "2022-08-19T10:41:32.091041",
     "status": "completed"
    },
    "tags": []
   },
   "outputs": [],
   "source": [
    "train_df=train_df.reset_index()"
   ]
  },
  {
   "cell_type": "code",
   "execution_count": null,
   "metadata": {
    "execution": {
     "iopub.execute_input": "2022-08-19T10:41:32.146843Z",
     "iopub.status.busy": "2022-08-19T10:41:32.146224Z",
     "iopub.status.idle": "2022-08-19T10:41:32.153111Z",
     "shell.execute_reply": "2022-08-19T10:41:32.153710Z",
     "shell.execute_reply.started": "2022-08-19T07:57:16.792085Z"
    },
    "papermill": {
     "duration": 0.020755,
     "end_time": "2022-08-19T10:41:32.153874",
     "exception": false,
     "start_time": "2022-08-19T10:41:32.133119",
     "status": "completed"
    },
    "tags": []
   },
   "outputs": [],
   "source": [
    "train_df.filename"
   ]
  },
  {
   "cell_type": "code",
   "execution_count": null,
   "metadata": {
    "execution": {
     "iopub.execute_input": "2022-08-19T10:41:32.179771Z",
     "iopub.status.busy": "2022-08-19T10:41:32.179115Z",
     "iopub.status.idle": "2022-08-19T10:41:33.251471Z",
     "shell.execute_reply": "2022-08-19T10:41:33.250872Z",
     "shell.execute_reply.started": "2022-08-19T07:57:21.251929Z"
    },
    "papermill": {
     "duration": 1.086351,
     "end_time": "2022-08-19T10:41:33.251633",
     "exception": false,
     "start_time": "2022-08-19T10:41:32.165282",
     "status": "completed"
    },
    "tags": []
   },
   "outputs": [],
   "source": [
    "!mkdir -p /tmp/train_images_enhanced "
   ]
  },
  {
   "cell_type": "code",
   "execution_count": null,
   "metadata": {
    "execution": {
     "iopub.execute_input": "2022-08-19T10:41:33.279200Z",
     "iopub.status.busy": "2022-08-19T10:41:33.278518Z",
     "iopub.status.idle": "2022-08-19T10:41:33.289932Z",
     "shell.execute_reply": "2022-08-19T10:41:33.290515Z",
     "shell.execute_reply.started": "2022-08-19T07:57:24.591554Z"
    },
    "papermill": {
     "duration": 0.02637,
     "end_time": "2022-08-19T10:41:33.290693",
     "exception": false,
     "start_time": "2022-08-19T10:41:33.264323",
     "status": "completed"
    },
    "tags": []
   },
   "outputs": [],
   "source": [
    "def dct2(a):\n",
    "    return dct(dct(a.T, norm='ortho').T, norm='ortho')\n",
    "def idct2(a):\n",
    "    return idct(idct(a.T, norm='ortho').T, norm='ortho')  \n",
    "def dtc_transform(img):  #DCT-filter\n",
    "    return idct2(dct2(img))\n",
    "\n",
    "def white_balance(channel, perc = 0.05):   #White balance function\n",
    "    mi, ma = (np.percentile(channel, perc), np.percentile(channel,100.0-perc))\n",
    "    channel = np.uint8(np.clip((channel-mi)*255.0/(ma-mi), 0, 255))\n",
    "    return channel\n",
    "\n",
    "def clahe():     #CLAHE\n",
    "    clahe = cv2.createCLAHE(clipLimit=2.0, tileGridSize=(16, 16))\n",
    "    return clahe\n",
    "\n",
    "def image_enhancer(directory_path,df):\n",
    "    save_dir = '/tmp/train_images_enhanced'  \n",
    "    for i in range(150000,200000):\n",
    "        image_name = df.filename[i].split(\"/\")[-1]\n",
    "        image_path = os.path.join(directory_path, image_name)\n",
    "        image = cv2.imread(image_path) \n",
    "        image = dtc_transform(image)     #DCT-filter to remove noise\n",
    "        \n",
    "        # White Balance\n",
    "        image_WB  = np.dstack([white_balance(channel, 0.05) for channel in cv2.split(image)] )\n",
    "        gray_image = cv2.cvtColor(image_WB, cv2.COLOR_RGB2GRAY)\n",
    "\n",
    "        # CLAHE\n",
    "        clahe_function = clahe()\n",
    "        image_clahe = clahe_function.apply(gray_image)\n",
    "        image = cv2.cvtColor(image_clahe, cv2.COLOR_GRAY2RGB) \n",
    "    \n",
    "        cv2.imwrite(f'{save_dir}/{image_name}', image) \n",
    "    return"
   ]
  },
  {
   "cell_type": "code",
   "execution_count": null,
   "metadata": {
    "execution": {
     "iopub.execute_input": "2022-08-19T10:41:33.316787Z",
     "iopub.status.busy": "2022-08-19T10:41:33.316103Z",
     "iopub.status.idle": "2022-08-19T11:47:28.016792Z",
     "shell.execute_reply": "2022-08-19T11:47:28.013327Z",
     "shell.execute_reply.started": "2022-08-19T07:00:18.606901Z"
    },
    "papermill": {
     "duration": 3954.715797,
     "end_time": "2022-08-19T11:47:28.018044",
     "exception": false,
     "start_time": "2022-08-19T10:41:33.302247",
     "status": "completed"
    },
    "tags": []
   },
   "outputs": [],
   "source": [
    "train_images = \"../input/crop-images/train_images/\"\n",
    "image_enhancer(train_images,train_df)"
   ]
  },
  {
   "cell_type": "code",
   "execution_count": null,
   "metadata": {
    "execution": {
     "iopub.execute_input": "2022-08-19T11:47:28.079098Z",
     "iopub.status.busy": "2022-08-19T11:47:28.078164Z",
     "iopub.status.idle": "2022-08-19T12:08:47.880893Z",
     "shell.execute_reply": "2022-08-19T12:08:47.881620Z",
     "shell.execute_reply.started": "2022-08-19T07:00:30.446548Z"
    },
    "papermill": {
     "duration": 1279.837595,
     "end_time": "2022-08-19T12:08:47.881858",
     "exception": false,
     "start_time": "2022-08-19T11:47:28.044263",
     "status": "completed"
    },
    "tags": []
   },
   "outputs": [],
   "source": [
    "shutil.make_archive(base_name='/kaggle/working/train_images_enhanced',\n",
    "                    format='zip',\n",
    "                    root_dir='/tmp/',\n",
    "                    base_dir='train_images_enhanced')"
   ]
  },
  {
   "cell_type": "code",
   "execution_count": null,
   "metadata": {
    "papermill": {
     "duration": 0.012371,
     "end_time": "2022-08-19T12:08:47.944642",
     "exception": false,
     "start_time": "2022-08-19T12:08:47.932271",
     "status": "completed"
    },
    "tags": []
   },
   "outputs": [],
   "source": []
  }
 ],
 "metadata": {
  "kernelspec": {
   "display_name": "Python 3",
   "language": "python",
   "name": "python3"
  },
  "language_info": {
   "codemirror_mode": {
    "name": "ipython",
    "version": 3
   },
   "file_extension": ".py",
   "mimetype": "text/x-python",
   "name": "python",
   "nbconvert_exporter": "python",
   "pygments_lexer": "ipython3",
   "version": "3.8.3"
  },
  "papermill": {
   "default_parameters": {},
   "duration": 5255.199081,
   "end_time": "2022-08-19T12:08:50.894822",
   "environment_variables": {},
   "exception": null,
   "input_path": "__notebook__.ipynb",
   "output_path": "__notebook__.ipynb",
   "parameters": {},
   "start_time": "2022-08-19T10:41:15.695741",
   "version": "2.3.3"
  }
 },
 "nbformat": 4,
 "nbformat_minor": 5
}
