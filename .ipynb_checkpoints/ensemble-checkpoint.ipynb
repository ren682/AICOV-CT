{
 "cells": [
  {
   "cell_type": "code",
   "execution_count": null,
   "metadata": {
    "ExecuteTime": {
     "end_time": "2022-11-07T08:54:40.363585Z",
     "start_time": "2022-11-07T08:54:32.399718Z"
    }
   },
   "outputs": [],
   "source": [
    "import pandas as pd\n",
    "import numpy as np\n",
    "import matplotlib.pyplot as plt\n",
    "from sklearn.decomposition import PCA  \n",
    "from sklearn.preprocessing import MinMaxScaler\n",
    "import numpy as np \n",
    "import pandas as pd\n",
    "import os\n",
    "import tensorflow as tf\n",
    "from tensorflow.keras.models import Sequential\n",
    "from tensorflow.keras.layers import *\n",
    "from tensorflow.keras.wrappers.scikit_learn import KerasClassifier\n",
    "from keras.utils import np_utils \n",
    "from imblearn.over_sampling import SMOTE          \n",
    "from imblearn.over_sampling import KMeansSMOTE    \n",
    "from sklearn.preprocessing import LabelEncoder\n",
    "from sklearn.model_selection import train_test_split\n",
    "from sklearn.metrics import classification_report\n",
    "from collections import Counter\n",
    "from sklearn import svm\n",
    "from sklearn.metrics import confusion_matrix\n",
    "from sklearn.metrics import accuracy_score\n",
    "from sklearn.metrics import recall_score\n",
    "from sklearn.metrics import precision_score\n",
    "from sklearn.linear_model import LogisticRegression\n",
    "import numpy as np \n",
    "import pandas as pd\n",
    "import os\n",
    "from sklearn.metrics import confusion_matrix\n",
    "import tensorflow as tf\n",
    "from sklearn.preprocessing import LabelEncoder\n",
    "from sklearn.metrics import classification_report\n",
    "from collections import Counter\n",
    "import matplotlib.pyplot as plt\n",
    "from sklearn.preprocessing import LabelEncoder\n",
    "from keras.utils import np_utils \n",
    "from keras.wrappers.scikit_learn import KerasClassifier\n",
    "import keras"
   ]
  },
  {
   "cell_type": "code",
   "execution_count": null,
   "metadata": {
    "ExecuteTime": {
     "end_time": "2022-11-07T08:54:40.379185Z",
     "start_time": "2022-11-07T08:54:40.363585Z"
    }
   },
   "outputs": [],
   "source": [
    "df = pd.read_csv(\"C:/Users/13711/Desktop/pre-values.csv\")"
   ]
  },
  {
   "cell_type": "code",
   "execution_count": null,
   "metadata": {
    "ExecuteTime": {
     "end_time": "2022-10-28T02:50:28.125286Z",
     "start_time": "2022-10-28T02:50:28.097172Z"
    }
   },
   "outputs": [],
   "source": [
    "df"
   ]
  },
  {
   "cell_type": "code",
   "execution_count": null,
   "metadata": {
    "ExecuteTime": {
     "end_time": "2022-10-28T02:50:28.156521Z",
     "start_time": "2022-10-28T02:50:28.127322Z"
    }
   },
   "outputs": [],
   "source": [
    "#Integration of three model results\n",
    "Y_pred = df[\"pre_values\"]\n",
    "Y_true = df[\"true_values\"]\n",
    "Y_pred = np.array(Y_pred)\n",
    "Y_true = np.array(Y_true)\n",
    "conf_matrix_res = confusion_matrix(Y_true, Y_pred)\n",
    "cm_res = np.array2string(conf_matrix_res)\n",
    "print(conf_matrix_res)\n",
    "class_rep_res = classification_report(Y_true, Y_pred)\n",
    "print(class_rep_res)"
   ]
  },
  {
   "cell_type": "code",
   "execution_count": null,
   "metadata": {
    "ExecuteTime": {
     "end_time": "2022-10-28T10:12:28.141796Z",
     "start_time": "2022-10-28T10:12:27.869855Z"
    }
   },
   "outputs": [],
   "source": [
    "import seaborn as sn  \n",
    "from sklearn.metrics import confusion_matrix\n",
    "font = {    'color': 'k',\n",
    "            'weight': 'normal',\n",
    "            }\n",
    "def plot_matrix(y_true, y_pred):\n",
    "    cm = confusion_matrix(y_true, y_pred)\n",
    "    annot = True\n",
    "    ax = sn.heatmap(cm,annot=True,fmt='g',xticklabels=[ 'Normal','CAP', 'COVID-19'],yticklabels=['Normal','CAP','COVID-19'],cmap=\"Blues\")\n",
    "    ax.set_xlabel('Predicted label\\na') \n",
    "    ax.set_ylabel('True label') \n",
    "    cbar = ax.collections[0].colorbar\n",
    "    cbar.set_label('Number of cases',fontdict=font)\n",
    "plot=plot_matrix(Y_true,Y_pred)\n",
    "plt.savefig('./Confusion Matrix',dpi=300)"
   ]
  },
  {
   "cell_type": "code",
   "execution_count": null,
   "metadata": {
    "ExecuteTime": {
     "end_time": "2022-10-28T02:50:28.644036Z",
     "start_time": "2022-10-28T02:50:28.567055Z"
    }
   },
   "outputs": [],
   "source": [
    "df.pre_values.value_counts()"
   ]
  },
  {
   "cell_type": "code",
   "execution_count": null,
   "metadata": {
    "ExecuteTime": {
     "end_time": "2022-10-28T02:50:52.361681Z",
     "start_time": "2022-10-28T02:50:52.352705Z"
    }
   },
   "outputs": [],
   "source": [
    "df.true_values.value_counts()"
   ]
  },
  {
   "cell_type": "code",
   "execution_count": null,
   "metadata": {
    "ExecuteTime": {
     "end_time": "2022-11-07T08:55:00.711307Z",
     "start_time": "2022-11-07T08:55:00.693992Z"
    }
   },
   "outputs": [],
   "source": [
    "df1 = pd.read_csv(\"C:/Users/13711/Desktop/covid-AUC calculate.csv\")"
   ]
  },
  {
   "cell_type": "code",
   "execution_count": null,
   "metadata": {
    "ExecuteTime": {
     "end_time": "2022-11-07T08:55:02.086038Z",
     "start_time": "2022-11-07T08:55:02.060465Z"
    }
   },
   "outputs": [],
   "source": [
    "df1.pre_values.value_counts()"
   ]
  },
  {
   "cell_type": "code",
   "execution_count": null,
   "metadata": {
    "ExecuteTime": {
     "end_time": "2022-11-07T08:55:02.790274Z",
     "start_time": "2022-11-07T08:55:02.772935Z"
    }
   },
   "outputs": [],
   "source": [
    "df1.true_values.value_counts()"
   ]
  },
  {
   "cell_type": "code",
   "execution_count": null,
   "metadata": {
    "ExecuteTime": {
     "end_time": "2022-11-07T08:55:03.696268Z",
     "start_time": "2022-11-07T08:55:03.683303Z"
    }
   },
   "outputs": [],
   "source": [
    "from sklearn import metrics"
   ]
  },
  {
   "cell_type": "code",
   "execution_count": null,
   "metadata": {
    "ExecuteTime": {
     "end_time": "2022-11-07T08:55:05.337044Z",
     "start_time": "2022-11-07T08:55:05.329078Z"
    }
   },
   "outputs": [],
   "source": [
    "fpr, tpr, threshold = metrics.roc_curve(df1.true_values, df1.pre_values)\n",
    "roc_auc = metrics.auc(fpr, tpr)"
   ]
  },
  {
   "cell_type": "code",
   "execution_count": null,
   "metadata": {
    "ExecuteTime": {
     "end_time": "2022-11-07T08:56:21.457495Z",
     "start_time": "2022-11-07T08:56:20.805854Z"
    }
   },
   "outputs": [],
   "source": [
    "plt.figure(figsize=(6,6))\n",
    "plt.title('Validation ROC')\n",
    "plt.plot(fpr, tpr, 'g', label = 'AICOV-CT AUC = %0.2f\\np-value<0.01' % roc_auc)\n",
    "plt.legend(loc = 'lower right')\n",
    "plt.plot([0, 1], [0, 1],'r--')\n",
    "plt.xlim([0, 1])\n",
    "plt.ylim([0, 1])\n",
    "plt.ylabel('Sensitivity ')\n",
    "plt.xlabel('100%-Specificity ')\n",
    "plt.savefig('./Covid-19 ROC Curve',dpi=600)\n",
    "plt.show()"
   ]
  },
  {
   "cell_type": "code",
   "execution_count": null,
   "metadata": {
    "ExecuteTime": {
     "end_time": "2022-10-28T07:56:27.697756Z",
     "start_time": "2022-10-28T07:56:27.680803Z"
    }
   },
   "outputs": [],
   "source": [
    "df2 = pd.read_csv(\"C:/Users/13711/Desktop/CAP-AUC calculate.csv\")"
   ]
  },
  {
   "cell_type": "code",
   "execution_count": null,
   "metadata": {
    "ExecuteTime": {
     "end_time": "2022-10-28T07:57:12.532001Z",
     "start_time": "2022-10-28T07:57:11.875234Z"
    }
   },
   "outputs": [],
   "source": [
    "fpr, tpr, threshold = metrics.roc_curve(df2.true_values, df2.pre_values)\n",
    "roc_auc = metrics.auc(fpr, tpr)\n",
    "plt.figure(figsize=(6,6))\n",
    "plt.title('Validation ROC')\n",
    "plt.plot(fpr, tpr, 'b', label = 'AICOV-CT AUC = %0.2f\\np-value<0.001' % roc_auc)\n",
    "plt.legend(loc = 'lower right')\n",
    "plt.plot([0, 1], [0, 1],'r--')\n",
    "plt.xlim([0, 1])\n",
    "plt.ylim([0, 1])\n",
    "plt.ylabel('Sensitivity ')\n",
    "plt.xlabel('100%-Specificity ')\n",
    "plt.savefig('./CAP CurveROC Curve',dpi=600)\n",
    "plt.show()"
   ]
  },
  {
   "cell_type": "code",
   "execution_count": null,
   "metadata": {
    "ExecuteTime": {
     "end_time": "2022-10-28T07:59:40.127050Z",
     "start_time": "2022-10-28T07:59:40.121035Z"
    }
   },
   "outputs": [],
   "source": [
    "df3 = pd.read_csv(\"C:/Users/13711/Desktop/Normal-AUC calculate.csv\")"
   ]
  },
  {
   "cell_type": "code",
   "execution_count": null,
   "metadata": {
    "ExecuteTime": {
     "end_time": "2022-10-28T08:01:27.940483Z",
     "start_time": "2022-10-28T08:01:27.274480Z"
    }
   },
   "outputs": [],
   "source": [
    "fpr, tpr, threshold = metrics.roc_curve(df3.true_values, df3.pre_values)\n",
    "roc_auc = metrics.auc(fpr, tpr)\n",
    "plt.figure(figsize=(6,6))\n",
    "plt.title('Validation ROC')\n",
    "plt.plot(fpr, tpr, 'b', label = 'AICOV-CT AUC = %0.2f\\np-value<0.001' % roc_auc)\n",
    "plt.legend(loc = 'lower right')\n",
    "plt.plot([0, 1], [0, 1],'r--')\n",
    "plt.xlim([0, 1])\n",
    "plt.ylim([0, 1])\n",
    "plt.ylabel('Sensitivity ')\n",
    "plt.xlabel('100%-Specificity ')\n",
    "plt.savefig('./Normal ROC Curve',dpi=600)\n",
    "plt.show()"
   ]
  },
  {
   "cell_type": "code",
   "execution_count": null,
   "metadata": {},
   "outputs": [],
   "source": []
  }
 ],
 "metadata": {
  "kernelspec": {
   "display_name": "Python 3",
   "language": "python",
   "name": "python3"
  },
  "language_info": {
   "codemirror_mode": {
    "name": "ipython",
    "version": 3
   },
   "file_extension": ".py",
   "mimetype": "text/x-python",
   "name": "python",
   "nbconvert_exporter": "python",
   "pygments_lexer": "ipython3",
   "version": "3.8.3"
  }
 },
 "nbformat": 4,
 "nbformat_minor": 4
}
