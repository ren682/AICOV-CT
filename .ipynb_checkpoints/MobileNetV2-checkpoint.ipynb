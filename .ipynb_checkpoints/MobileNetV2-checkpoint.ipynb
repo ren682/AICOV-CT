{
 "cells": [
  {
   "cell_type": "code",
   "execution_count": null,
   "metadata": {
    "execution": {
     "iopub.execute_input": "2022-09-12T02:47:59.348309Z",
     "iopub.status.busy": "2022-09-12T02:47:59.347768Z",
     "iopub.status.idle": "2022-09-12T02:48:05.746745Z",
     "shell.execute_reply": "2022-09-12T02:48:05.745743Z"
    },
    "papermill": {
     "duration": 6.407572,
     "end_time": "2022-09-12T02:48:05.749582",
     "exception": false,
     "start_time": "2022-09-12T02:47:59.342010",
     "status": "completed"
    },
    "tags": []
   },
   "outputs": [],
   "source": [
    "import numpy as np\n",
    "import pandas as pd\n",
    "import os\n",
    "import sys\n",
    "import shutil\n",
    "import matplotlib.pyplot as plt\n",
    "import pylab as pl\n",
    "from tensorflow.keras import backend as K\n",
    "from tensorflow.keras.models import Sequential\n",
    "from tensorflow.keras import optimizers\n",
    "from tensorflow.keras.preprocessing.image import ImageDataGenerator\n",
    "from tensorflow.keras.callbacks import History \n",
    "from sklearn.metrics import classification_report, confusion_matrix, roc_curve, auc\n",
    "import tensorflow.keras\n",
    "\n",
    "import pandas as pd\n",
    "from sklearn.utils import shuffle\n",
    "import numpy as np\n",
    "import matplotlib.pyplot as plt\n",
    "import os\n",
    "import cv2\n",
    "import random\n",
    "import itertools\n",
    "\n",
    "import warnings\n",
    "warnings.filterwarnings('ignore')\n",
    "\n",
    "import tensorflow as tf\n",
    "from tensorflow.keras import *\n",
    "from tensorflow.keras.layers import *\n",
    "from tensorflow.keras.models import *\n",
    "from tensorflow.keras.callbacks import *\n",
    "from tensorflow.keras.optimizers import *\n",
    "from tensorflow.keras.utils import to_categorical\n",
    "from tensorflow.keras.metrics import categorical_crossentropy\n",
    "from tensorflow.keras.layers.experimental.preprocessing import RandomFlip, RandomRotation\n",
    "\n",
    "from sklearn.metrics import accuracy_score, confusion_matrix, classification_report\n",
    "from tensorflow.keras import models, regularizers, layers, optimizers, losses, metrics\n",
    "from tensorflow.keras.callbacks import ModelCheckpoint"
   ]
  },
  {
   "cell_type": "code",
   "execution_count": null,
   "metadata": {
    "execution": {
     "iopub.execute_input": "2022-09-12T02:48:05.758032Z",
     "iopub.status.busy": "2022-09-12T02:48:05.757503Z",
     "iopub.status.idle": "2022-09-12T02:48:05.763562Z",
     "shell.execute_reply": "2022-09-12T02:48:05.762669Z"
    },
    "papermill": {
     "duration": 0.012369,
     "end_time": "2022-09-12T02:48:05.765604",
     "exception": false,
     "start_time": "2022-09-12T02:48:05.753235",
     "status": "completed"
    },
    "tags": []
   },
   "outputs": [],
   "source": [
    "train = '../input/train-images-enhanced'\n",
    "val = '../input/val-test-images/val/val'\n",
    "test = '../input/val-test-images/test'"
   ]
  },
  {
   "cell_type": "code",
   "execution_count": null,
   "metadata": {
    "execution": {
     "iopub.execute_input": "2022-09-12T02:48:05.772835Z",
     "iopub.status.busy": "2022-09-12T02:48:05.772546Z",
     "iopub.status.idle": "2022-09-12T02:48:08.196919Z",
     "shell.execute_reply": "2022-09-12T02:48:08.195571Z"
    },
    "papermill": {
     "duration": 2.430298,
     "end_time": "2022-09-12T02:48:08.199070",
     "exception": false,
     "start_time": "2022-09-12T02:48:05.768772",
     "status": "completed"
    },
    "tags": []
   },
   "outputs": [],
   "source": [
    "# Total number of training images\n",
    "num_of_train_samples = 0\n",
    "for train_dataset in os.listdir(train):\n",
    "    in_folder = train + \"/\" + train_dataset \n",
    "    in_folder_list = os.listdir(in_folder)\n",
    "    num_of_train_samples = num_of_train_samples + len(in_folder_list)\n",
    "print(\"Number of training samples: \",num_of_train_samples)\n",
    "\n",
    "# Total number of validation images\n",
    "num_of_validation_samples = 0\n",
    "for validation_dataset in os.listdir(val):\n",
    "    in_folder_val = val + \"/\" + validation_dataset\n",
    "    in_folder_val_list = os.listdir(in_folder_val)\n",
    "    num_of_validation_samples = num_of_validation_samples + len(in_folder_val_list)\n",
    "print(\"Number of validation samples: \", num_of_validation_samples)\n",
    "\n",
    "num_of_test_samples = 0\n",
    "for test_dataset in os.listdir(test):\n",
    "    in_folder_test = test + \"/\" + test_dataset\n",
    "    in_folder_test_list = os.listdir(in_folder_test)\n",
    "    num_of_test_samples = num_of_test_samples + len(in_folder_test_list)\n",
    "print(\"Number of test samples: \", num_of_test_samples)"
   ]
  },
  {
   "cell_type": "code",
   "execution_count": null,
   "metadata": {
    "execution": {
     "iopub.execute_input": "2022-09-12T02:48:08.207348Z",
     "iopub.status.busy": "2022-09-12T02:48:08.206603Z",
     "iopub.status.idle": "2022-09-12T02:48:08.212483Z",
     "shell.execute_reply": "2022-09-12T02:48:08.211663Z"
    },
    "papermill": {
     "duration": 0.01188,
     "end_time": "2022-09-12T02:48:08.214381",
     "exception": false,
     "start_time": "2022-09-12T02:48:08.202501",
     "status": "completed"
    },
    "tags": []
   },
   "outputs": [],
   "source": [
    "train_datagen = ImageDataGenerator(rescale=1. / 255,\n",
    "                                   rotation_range=40,   \n",
    "                                   width_shift_range=0.2,\n",
    "                                   height_shift_range=0.2,\n",
    "                                   shear_range=0.2,\n",
    "                                   zoom_range=0.2,\n",
    "                                   horizontal_flip=True)\n",
    "val_datagen = ImageDataGenerator(rescale=1. / 255)"
   ]
  },
  {
   "cell_type": "code",
   "execution_count": null,
   "metadata": {
    "execution": {
     "iopub.execute_input": "2022-09-12T02:48:08.222233Z",
     "iopub.status.busy": "2022-09-12T02:48:08.221459Z",
     "iopub.status.idle": "2022-09-12T02:48:08.226191Z",
     "shell.execute_reply": "2022-09-12T02:48:08.225287Z"
    },
    "papermill": {
     "duration": 0.010886,
     "end_time": "2022-09-12T02:48:08.228387",
     "exception": false,
     "start_time": "2022-09-12T02:48:08.217501",
     "status": "completed"
    },
    "tags": []
   },
   "outputs": [],
   "source": [
    "batch_size = 32\n",
    "target_names = ['COVID', 'PNEUMONIA', 'NORMAL']\n",
    "\n",
    "# Defining image width and height respectively\n",
    "img_rows = 224\n",
    "img_cols = 224"
   ]
  },
  {
   "cell_type": "code",
   "execution_count": null,
   "metadata": {
    "execution": {
     "iopub.execute_input": "2022-09-12T02:48:08.236202Z",
     "iopub.status.busy": "2022-09-12T02:48:08.235938Z",
     "iopub.status.idle": "2022-09-12T02:48:50.831489Z",
     "shell.execute_reply": "2022-09-12T02:48:50.829251Z"
    },
    "papermill": {
     "duration": 42.602394,
     "end_time": "2022-09-12T02:48:50.833920",
     "exception": false,
     "start_time": "2022-09-12T02:48:08.231526",
     "status": "completed"
    },
    "tags": []
   },
   "outputs": [],
   "source": [
    "train_generator = train_datagen.flow_from_directory(train,\n",
    "                                                    target_size = (img_rows, img_cols),\n",
    "                                                    batch_size = batch_size,\n",
    "                                                    class_mode = 'categorical')\n",
    "\n",
    "validation_generator = val_datagen.flow_from_directory(val,\n",
    "                                                        target_size = (img_rows, img_cols),\n",
    "                                                        batch_size = batch_size,\n",
    "                                                        shuffle = False, class_mode='categorical')\n",
    "\n",
    "test_generator = val_datagen.flow_from_directory(test,\n",
    "                                                target_size = (img_rows, img_cols),\n",
    "                                                batch_size = batch_size,\n",
    "                                                shuffle = False, class_mode='categorical')"
   ]
  },
  {
   "cell_type": "code",
   "execution_count": null,
   "metadata": {
    "execution": {
     "iopub.execute_input": "2022-09-12T02:48:50.843620Z",
     "iopub.status.busy": "2022-09-12T02:48:50.843317Z",
     "iopub.status.idle": "2022-09-12T02:48:50.853253Z",
     "shell.execute_reply": "2022-09-12T02:48:50.852387Z"
    },
    "papermill": {
     "duration": 0.017246,
     "end_time": "2022-09-12T02:48:50.855246",
     "exception": false,
     "start_time": "2022-09-12T02:48:50.838000",
     "status": "completed"
    },
    "tags": []
   },
   "outputs": [],
   "source": [
    "def plot_confusion_matrix(cm, classes,\n",
    "                          normalize=False,\n",
    "                          title='Confusion matrix',\n",
    "                          cmap=plt.cm.Blues):\n",
    "    \"\"\"\n",
    "    This function prints and plots the confusion matrix.\n",
    "    Normalization can be applied by setting `normalize=True`.\n",
    "    \"\"\"\n",
    "    if normalize:\n",
    "        cm = cm.astype('float') / cm.sum(axis=1)[:, np.newaxis]\n",
    "        print(\"Normalized Confusion Matrix\")\n",
    "    else:\n",
    "        print('Unnormalized Confusion Matrix')\n",
    "    \n",
    "    import itertools\n",
    "    print(cm)\n",
    "    plt.figure(figsize=(8, 8))\n",
    "    plt.imshow(cm, interpolation='nearest', cmap=cmap)\n",
    "    plt.title(title)\n",
    "    plt.colorbar()\n",
    "    tick_marks = np.arange(len(classes))\n",
    "    plt.xticks(tick_marks, classes, rotation=45)\n",
    "    plt.yticks(tick_marks, classes)\n",
    "\n",
    "    fmt = '.2f' if normalize else 'd'\n",
    "    thresh = cm.max() / 2.\n",
    "    for i, j in itertools.product(range(cm.shape[0]), range(cm.shape[1])):\n",
    "        plt.text(j, i, format(cm[i, j], fmt),\n",
    "                 horizontalalignment=\"center\",\n",
    "                 color=\"white\" if cm[i, j] > thresh else \"black\")\n",
    "\n",
    "    plt.ylabel('Classe Real')\n",
    "    plt.xlabel('Classe Predita')\n",
    "    plt.tight_layout()"
   ]
  },
  {
   "cell_type": "code",
   "execution_count": null,
   "metadata": {
    "execution": {
     "iopub.execute_input": "2022-09-12T02:48:50.863469Z",
     "iopub.status.busy": "2022-09-12T02:48:50.863202Z",
     "iopub.status.idle": "2022-09-12T02:48:50.868591Z",
     "shell.execute_reply": "2022-09-12T02:48:50.867689Z"
    },
    "papermill": {
     "duration": 0.011836,
     "end_time": "2022-09-12T02:48:50.870592",
     "exception": false,
     "start_time": "2022-09-12T02:48:50.858756",
     "status": "completed"
    },
    "tags": []
   },
   "outputs": [],
   "source": [
    "steps_per_epoch = num_of_train_samples // batch_size\n",
    "validation_steps = num_of_validation_samples // batch_size\n",
    "epoch = 12\n",
    "print(\"The incoming data for each epoch of the training set: \",steps_per_epoch)\n",
    "print(\"Validate the data passed in for each epoch of the set: \",validation_steps)\n",
    "learning_rate = 0.01"
   ]
  },
  {
   "cell_type": "code",
   "execution_count": null,
   "metadata": {
    "execution": {
     "iopub.execute_input": "2022-09-12T02:48:50.879935Z",
     "iopub.status.busy": "2022-09-12T02:48:50.878839Z",
     "iopub.status.idle": "2022-09-12T02:48:55.232892Z",
     "shell.execute_reply": "2022-09-12T02:48:55.231911Z"
    },
    "papermill": {
     "duration": 4.361339,
     "end_time": "2022-09-12T02:48:55.235599",
     "exception": false,
     "start_time": "2022-09-12T02:48:50.874260",
     "status": "completed"
    },
    "tags": []
   },
   "outputs": [],
   "source": [
    "from tensorflow.keras.applications import InceptionV3,DenseNet201,VGG19,ResNet50V2,MobileNetV2\n",
    "resnet_model = Sequential()\n",
    "resnet_model.add(MobileNetV2(include_top=False, \n",
    "                   pooling='max', \n",
    "                   weights='imagenet'))\n",
    "resnet_model.add(Flatten())\n",
    "resnet_model.add(layers.Dropout(0.4))\n",
    "resnet_model.add(Dense(256, activation = \"relu\"))\n",
    "resnet_model.add(BatchNormalization())\n",
    "resnet_model.add(Dense(3, activation='softmax'))"
   ]
  },
  {
   "cell_type": "code",
   "execution_count": null,
   "metadata": {
    "execution": {
     "iopub.execute_input": "2022-09-12T02:48:55.245481Z",
     "iopub.status.busy": "2022-09-12T02:48:55.245189Z",
     "iopub.status.idle": "2022-09-12T02:48:55.259167Z",
     "shell.execute_reply": "2022-09-12T02:48:55.258328Z"
    },
    "papermill": {
     "duration": 0.020876,
     "end_time": "2022-09-12T02:48:55.261115",
     "exception": false,
     "start_time": "2022-09-12T02:48:55.240239",
     "status": "completed"
    },
    "tags": []
   },
   "outputs": [],
   "source": [
    "resnet_model.compile(loss=\"categorical_crossentropy\",\n",
    "              optimizer=optimizers.Adam(lr=learning_rate),\n",
    "              metrics=[\"accuracy\"])"
   ]
  },
  {
   "cell_type": "code",
   "execution_count": null,
   "metadata": {
    "execution": {
     "iopub.execute_input": "2022-09-12T02:48:55.270591Z",
     "iopub.status.busy": "2022-09-12T02:48:55.270034Z",
     "iopub.status.idle": "2022-09-12T12:46:58.496167Z",
     "shell.execute_reply": "2022-09-12T12:46:58.494316Z"
    },
    "papermill": {
     "duration": 35883.235475,
     "end_time": "2022-09-12T12:46:58.500540",
     "exception": false,
     "start_time": "2022-09-12T02:48:55.265065",
     "status": "completed"
    },
    "tags": []
   },
   "outputs": [],
   "source": [
    "filepath=\"MobileNetV2.h5\"\n",
    "checkpoint = ModelCheckpoint(filepath=filepath,\n",
    "        save_weights_only=False,\n",
    "        monitor='val_accuracy', \n",
    "        mode='max',\n",
    "        save_best_only=True)\n",
    "\n",
    "resnet_training = resnet_model.fit(train_generator,\n",
    "                               steps_per_epoch = steps_per_epoch,\n",
    "                               epochs = epoch,\n",
    "                               validation_data = validation_generator,\n",
    "                               validation_steps = validation_steps,\n",
    "                               callbacks=[checkpoint])"
   ]
  },
  {
   "cell_type": "code",
   "execution_count": null,
   "metadata": {
    "execution": {
     "iopub.execute_input": "2022-09-12T12:47:03.770491Z",
     "iopub.status.busy": "2022-09-12T12:47:03.769325Z",
     "iopub.status.idle": "2022-09-12T12:47:04.030410Z",
     "shell.execute_reply": "2022-09-12T12:47:04.029085Z"
    },
    "papermill": {
     "duration": 2.673308,
     "end_time": "2022-09-12T12:47:04.032851",
     "exception": false,
     "start_time": "2022-09-12T12:47:01.359543",
     "status": "completed"
    },
    "tags": []
   },
   "outputs": [],
   "source": [
    "plt.figure(figsize=(8,8),dpi=80)\n",
    "plt.plot(resnet_training.history['accuracy'])\n",
    "plt.plot(resnet_training.history['val_accuracy'])\n",
    "plt.title(\"model accuracy\")\n",
    "plt.ylabel(\"Accuracy\")\n",
    "plt.xlabel(\"epoch\")\n",
    "plt.legend([\"train\",\"test\"],loc=\"lower right\")\n",
    "plt.show()"
   ]
  },
  {
   "cell_type": "code",
   "execution_count": null,
   "metadata": {
    "execution": {
     "iopub.execute_input": "2022-09-12T12:47:08.646089Z",
     "iopub.status.busy": "2022-09-12T12:47:08.645477Z",
     "iopub.status.idle": "2022-09-12T12:47:08.856637Z",
     "shell.execute_reply": "2022-09-12T12:47:08.855756Z"
    },
    "papermill": {
     "duration": 2.506325,
     "end_time": "2022-09-12T12:47:08.858617",
     "exception": false,
     "start_time": "2022-09-12T12:47:06.352292",
     "status": "completed"
    },
    "tags": []
   },
   "outputs": [],
   "source": [
    "plt.figure(figsize=(8,8),dpi=80)\n",
    "plt.plot(resnet_training.history['loss'])\n",
    "plt.plot(resnet_training.history['val_loss'])\n",
    "plt.title(\"model loss\")\n",
    "plt.ylabel(\"loss\")\n",
    "plt.xlabel(\"epoch\")\n",
    "plt.legend([\"train\",\"test\"],loc=\"lower right\")\n",
    "plt.show()"
   ]
  },
  {
   "cell_type": "code",
   "execution_count": null,
   "metadata": {
    "execution": {
     "iopub.execute_input": "2022-09-12T12:47:13.310815Z",
     "iopub.status.busy": "2022-09-12T12:47:13.310200Z",
     "iopub.status.idle": "2022-09-12T12:48:32.012062Z",
     "shell.execute_reply": "2022-09-12T12:48:32.011007Z"
    },
    "papermill": {
     "duration": 83.769857,
     "end_time": "2022-09-12T12:48:34.782654",
     "exception": false,
     "start_time": "2022-09-12T12:47:11.012797",
     "status": "completed"
    },
    "tags": []
   },
   "outputs": [],
   "source": [
    "Y_pred_res = resnet_model.predict_generator(test_generator, num_of_test_samples // batch_size+1)\n",
    "y_pred_resnet = np.argmax(Y_pred_res, axis=1)\n",
    "print('Confusion Matrix')\n",
    "conf_matrix_res = confusion_matrix(test_generator.classes, y_pred_resnet)\n",
    "cm_res = np.array2string(conf_matrix_res)\n",
    "print(conf_matrix_res)\n",
    "print(\"=============================================================================================\")\n",
    "print('Classification Report')\n",
    "class_rep_res = classification_report(test_generator.classes, y_pred_resnet, target_names=target_names)\n",
    "print(class_rep_res)"
   ]
  }
 ],
 "metadata": {
  "kernelspec": {
   "display_name": "Python 3",
   "language": "python",
   "name": "python3"
  },
  "language_info": {
   "codemirror_mode": {
    "name": "ipython",
    "version": 3
   },
   "file_extension": ".py",
   "mimetype": "text/x-python",
   "name": "python",
   "nbconvert_exporter": "python",
   "pygments_lexer": "ipython3",
   "version": "3.8.3"
  },
  "papermill": {
   "default_parameters": {},
   "duration": 36048.271149,
   "end_time": "2022-09-12T12:48:39.923119",
   "environment_variables": {},
   "exception": null,
   "input_path": "__notebook__.ipynb",
   "output_path": "__notebook__.ipynb",
   "parameters": {},
   "start_time": "2022-09-12T02:47:51.651970",
   "version": "2.3.4"
  }
 },
 "nbformat": 4,
 "nbformat_minor": 5
}
