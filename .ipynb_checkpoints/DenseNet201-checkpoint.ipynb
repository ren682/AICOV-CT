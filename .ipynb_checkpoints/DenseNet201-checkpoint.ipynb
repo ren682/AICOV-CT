{
 "cells": [
  {
   "cell_type": "code",
   "execution_count": null,
   "metadata": {
    "execution": {
     "iopub.execute_input": "2022-09-12T02:57:40.689860Z",
     "iopub.status.busy": "2022-09-12T02:57:40.689460Z",
     "iopub.status.idle": "2022-09-12T02:57:47.123215Z",
     "shell.execute_reply": "2022-09-12T02:57:47.122124Z"
    },
    "papermill": {
     "duration": 6.441432,
     "end_time": "2022-09-12T02:57:47.125857",
     "exception": false,
     "start_time": "2022-09-12T02:57:40.684425",
     "status": "completed"
    },
    "tags": []
   },
   "outputs": [],
   "source": [
    "import numpy as np\n",
    "import pandas as pd\n",
    "import os\n",
    "import sys\n",
    "import shutil\n",
    "import matplotlib.pyplot as plt\n",
    "import pylab as pl\n",
    "from tensorflow.keras import backend as K\n",
    "from tensorflow.keras.models import Sequential\n",
    "from tensorflow.keras import optimizers\n",
    "from tensorflow.keras.preprocessing.image import ImageDataGenerator\n",
    "from tensorflow.keras.callbacks import History \n",
    "from sklearn.metrics import classification_report, confusion_matrix, roc_curve, auc\n",
    "import tensorflow.keras\n",
    "\n",
    "import pandas as pd\n",
    "from sklearn.utils import shuffle\n",
    "import numpy as np\n",
    "import matplotlib.pyplot as plt\n",
    "import os\n",
    "import cv2\n",
    "import random\n",
    "import itertools\n",
    "\n",
    "import warnings\n",
    "warnings.filterwarnings('ignore')\n",
    "\n",
    "import tensorflow as tf\n",
    "from tensorflow.keras import *\n",
    "from tensorflow.keras.layers import *\n",
    "from tensorflow.keras.models import *\n",
    "from tensorflow.keras.callbacks import *\n",
    "from tensorflow.keras.optimizers import *\n",
    "from tensorflow.keras.utils import to_categorical\n",
    "from tensorflow.keras.metrics import categorical_crossentropy\n",
    "from tensorflow.keras.layers.experimental.preprocessing import RandomFlip, RandomRotation\n",
    "\n",
    "from sklearn.metrics import accuracy_score, confusion_matrix, classification_report\n",
    "from tensorflow.keras import models, regularizers, layers, optimizers, losses, metrics\n",
    "from tensorflow.keras.callbacks import ModelCheckpoint"
   ]
  },
  {
   "cell_type": "code",
   "execution_count": null,
   "metadata": {
    "execution": {
     "iopub.execute_input": "2022-09-12T02:57:47.134814Z",
     "iopub.status.busy": "2022-09-12T02:57:47.133446Z",
     "iopub.status.idle": "2022-09-12T02:57:47.139239Z",
     "shell.execute_reply": "2022-09-12T02:57:47.138363Z"
    },
    "papermill": {
     "duration": 0.011737,
     "end_time": "2022-09-12T02:57:47.141279",
     "exception": false,
     "start_time": "2022-09-12T02:57:47.129542",
     "status": "completed"
    },
    "tags": []
   },
   "outputs": [],
   "source": [
    "train = '../input/train-images-enhanced'\n",
    "val = '../input/val-test-images/val/val'\n",
    "test = '../input/val-test-images/test'"
   ]
  },
  {
   "cell_type": "code",
   "execution_count": null,
   "metadata": {
    "execution": {
     "iopub.execute_input": "2022-09-12T02:57:47.149311Z",
     "iopub.status.busy": "2022-09-12T02:57:47.147886Z",
     "iopub.status.idle": "2022-09-12T02:57:49.669084Z",
     "shell.execute_reply": "2022-09-12T02:57:49.667786Z"
    },
    "papermill": {
     "duration": 2.527058,
     "end_time": "2022-09-12T02:57:49.671224",
     "exception": false,
     "start_time": "2022-09-12T02:57:47.144166",
     "status": "completed"
    },
    "tags": []
   },
   "outputs": [],
   "source": [
    "num_of_train_samples = 0\n",
    "for train_dataset in os.listdir(train):\n",
    "    in_folder = train + \"/\" + train_dataset \n",
    "    in_folder_list = os.listdir(in_folder)\n",
    "    num_of_train_samples = num_of_train_samples + len(in_folder_list)\n",
    "print(\"Number of training samples: \",num_of_train_samples)\n",
    "\n",
    "num_of_validation_samples = 0\n",
    "for validation_dataset in os.listdir(val):\n",
    "    in_folder_val = val + \"/\" + validation_dataset\n",
    "    in_folder_val_list = os.listdir(in_folder_val)\n",
    "    num_of_validation_samples = num_of_validation_samples + len(in_folder_val_list)\n",
    "print(\"Number of validation samples: \", num_of_validation_samples)\n",
    "\n",
    "num_of_test_samples = 0\n",
    "for test_dataset in os.listdir(test):\n",
    "    in_folder_test = test + \"/\" + test_dataset\n",
    "    in_folder_test_list = os.listdir(in_folder_test)\n",
    "    num_of_test_samples = num_of_test_samples + len(in_folder_test_list)\n",
    "print(\"Number of test samples: \", num_of_test_samples)"
   ]
  },
  {
   "cell_type": "code",
   "execution_count": null,
   "metadata": {
    "execution": {
     "iopub.execute_input": "2022-09-12T02:57:49.679497Z",
     "iopub.status.busy": "2022-09-12T02:57:49.678772Z",
     "iopub.status.idle": "2022-09-12T02:57:49.685602Z",
     "shell.execute_reply": "2022-09-12T02:57:49.684716Z"
    },
    "papermill": {
     "duration": 0.01294,
     "end_time": "2022-09-12T02:57:49.687570",
     "exception": false,
     "start_time": "2022-09-12T02:57:49.674630",
     "status": "completed"
    },
    "tags": []
   },
   "outputs": [],
   "source": [
    "train_datagen = ImageDataGenerator(rescale=1. / 255,\n",
    "                                   rotation_range=40,    \n",
    "                                   width_shift_range=0.2,\n",
    "                                   height_shift_range=0.2,\n",
    "                                   shear_range=0.2,\n",
    "                                   zoom_range=0.2,\n",
    "                                   horizontal_flip=True)\n",
    "val_datagen = ImageDataGenerator(rescale=1. / 255)"
   ]
  },
  {
   "cell_type": "code",
   "execution_count": null,
   "metadata": {
    "execution": {
     "iopub.execute_input": "2022-09-12T02:57:49.696090Z",
     "iopub.status.busy": "2022-09-12T02:57:49.694681Z",
     "iopub.status.idle": "2022-09-12T02:57:49.699619Z",
     "shell.execute_reply": "2022-09-12T02:57:49.698748Z"
    },
    "papermill": {
     "duration": 0.010848,
     "end_time": "2022-09-12T02:57:49.701558",
     "exception": false,
     "start_time": "2022-09-12T02:57:49.690710",
     "status": "completed"
    },
    "tags": []
   },
   "outputs": [],
   "source": [
    "batch_size = 32\n",
    "target_names = ['COVID', 'PNEUMONIA', 'NORMAL']\n",
    "\n",
    "# Defining image width and height respectively\n",
    "img_rows = 224\n",
    "img_cols = 224"
   ]
  },
  {
   "cell_type": "code",
   "execution_count": null,
   "metadata": {
    "execution": {
     "iopub.execute_input": "2022-09-12T02:57:49.709093Z",
     "iopub.status.busy": "2022-09-12T02:57:49.708774Z",
     "iopub.status.idle": "2022-09-12T02:58:39.135885Z",
     "shell.execute_reply": "2022-09-12T02:58:39.134576Z"
    },
    "papermill": {
     "duration": 49.434608,
     "end_time": "2022-09-12T02:58:39.139290",
     "exception": false,
     "start_time": "2022-09-12T02:57:49.704682",
     "status": "completed"
    },
    "tags": []
   },
   "outputs": [],
   "source": [
    "train_generator = train_datagen.flow_from_directory(train,\n",
    "                                                    target_size = (img_rows, img_cols),\n",
    "                                                    batch_size = batch_size,\n",
    "                                                    class_mode = 'categorical')\n",
    "\n",
    "validation_generator = val_datagen.flow_from_directory(val,\n",
    "                                                        target_size = (img_rows, img_cols),\n",
    "                                                        batch_size = batch_size,\n",
    "                                                        shuffle = False, class_mode='categorical')\n",
    "\n",
    "test_generator = val_datagen.flow_from_directory(test,\n",
    "                                                target_size = (img_rows, img_cols),\n",
    "                                                batch_size = batch_size,\n",
    "                                                shuffle = False, class_mode='categorical')"
   ]
  },
  {
   "cell_type": "code",
   "execution_count": null,
   "metadata": {
    "execution": {
     "iopub.execute_input": "2022-09-12T02:58:39.158198Z",
     "iopub.status.busy": "2022-09-12T02:58:39.157557Z",
     "iopub.status.idle": "2022-09-12T02:58:39.175745Z",
     "shell.execute_reply": "2022-09-12T02:58:39.174781Z"
    },
    "papermill": {
     "duration": 0.03076,
     "end_time": "2022-09-12T02:58:39.178259",
     "exception": false,
     "start_time": "2022-09-12T02:58:39.147499",
     "status": "completed"
    },
    "tags": []
   },
   "outputs": [],
   "source": [
    "def plot_confusion_matrix(cm, classes,\n",
    "                          normalize=False,\n",
    "                          title='Confusion matrix',\n",
    "                          cmap=plt.cm.Blues):\n",
    "    \"\"\"\n",
    "    This function prints and plots the confusion matrix.\n",
    "    Normalization can be applied by setting `normalize=True`.\n",
    "    \"\"\"\n",
    "    if normalize:\n",
    "        cm = cm.astype('float') / cm.sum(axis=1)[:, np.newaxis]\n",
    "        print(\"Normalized Confusion Matrix\")\n",
    "    else:\n",
    "        print('Unnormalized Confusion Matrix')\n",
    "    \n",
    "    import itertools\n",
    "    print(cm)\n",
    "    plt.figure(figsize=(8, 8))\n",
    "    plt.imshow(cm, interpolation='nearest', cmap=cmap)\n",
    "    plt.title(title)\n",
    "    plt.colorbar()\n",
    "    tick_marks = np.arange(len(classes))\n",
    "    plt.xticks(tick_marks, classes, rotation=45)\n",
    "    plt.yticks(tick_marks, classes)\n",
    "\n",
    "    fmt = '.2f' if normalize else 'd'\n",
    "    thresh = cm.max() / 2.\n",
    "    for i, j in itertools.product(range(cm.shape[0]), range(cm.shape[1])):\n",
    "        plt.text(j, i, format(cm[i, j], fmt),\n",
    "                 horizontalalignment=\"center\",\n",
    "                 color=\"white\" if cm[i, j] > thresh else \"black\")\n",
    "\n",
    "    plt.ylabel('Classe Real')\n",
    "    plt.xlabel('Classe Predita')\n",
    "    plt.tight_layout()"
   ]
  },
  {
   "cell_type": "code",
   "execution_count": null,
   "metadata": {
    "execution": {
     "iopub.execute_input": "2022-09-12T02:58:39.188804Z",
     "iopub.status.busy": "2022-09-12T02:58:39.188242Z",
     "iopub.status.idle": "2022-09-12T02:58:39.196942Z",
     "shell.execute_reply": "2022-09-12T02:58:39.195865Z"
    },
    "papermill": {
     "duration": 0.017293,
     "end_time": "2022-09-12T02:58:39.200039",
     "exception": false,
     "start_time": "2022-09-12T02:58:39.182746",
     "status": "completed"
    },
    "tags": []
   },
   "outputs": [],
   "source": [
    "steps_per_epoch = num_of_train_samples // batch_size\n",
    "validation_steps = num_of_validation_samples // batch_size\n",
    "epoch = 12\n",
    "print(\"The incoming data for each epoch of the training set: \",steps_per_epoch)\n",
    "print(\"Validate the data passed in for each epoch of the set: \",validation_steps)\n",
    "learning_rate = 0.01"
   ]
  },
  {
   "cell_type": "code",
   "execution_count": null,
   "metadata": {
    "execution": {
     "iopub.execute_input": "2022-09-12T02:58:39.211883Z",
     "iopub.status.busy": "2022-09-12T02:58:39.211503Z",
     "iopub.status.idle": "2022-09-12T02:58:49.730615Z",
     "shell.execute_reply": "2022-09-12T02:58:49.729629Z"
    },
    "papermill": {
     "duration": 10.527703,
     "end_time": "2022-09-12T02:58:49.732966",
     "exception": false,
     "start_time": "2022-09-12T02:58:39.205263",
     "status": "completed"
    },
    "tags": []
   },
   "outputs": [],
   "source": [
    "from tensorflow.keras.applications import InceptionV3,DenseNet201,VGG19,ResNet50V2,MobileNetV2\n",
    "resnet_model = Sequential()\n",
    "resnet_model.add(DenseNet201(include_top=False, \n",
    "                   pooling='max', \n",
    "                   weights='imagenet'))\n",
    "resnet_model.add(Flatten())\n",
    "resnet_model.add(layers.Dropout(0.2))\n",
    "resnet_model.add(Dense(256, activation = \"relu\"))\n",
    "resnet_model.add(BatchNormalization())\n",
    "resnet_model.add(Dense(3, activation='softmax'))"
   ]
  },
  {
   "cell_type": "code",
   "execution_count": null,
   "metadata": {
    "execution": {
     "iopub.execute_input": "2022-09-12T02:58:49.743653Z",
     "iopub.status.busy": "2022-09-12T02:58:49.742818Z",
     "iopub.status.idle": "2022-09-12T02:58:49.764266Z",
     "shell.execute_reply": "2022-09-12T02:58:49.763428Z"
    },
    "papermill": {
     "duration": 0.028561,
     "end_time": "2022-09-12T02:58:49.766290",
     "exception": false,
     "start_time": "2022-09-12T02:58:49.737729",
     "status": "completed"
    },
    "tags": []
   },
   "outputs": [],
   "source": [
    "resnet_model.compile(loss=\"categorical_crossentropy\",\n",
    "              optimizer=optimizers.Adam(lr=learning_rate),\n",
    "              metrics=[\"accuracy\"])"
   ]
  },
  {
   "cell_type": "code",
   "execution_count": null,
   "metadata": {
    "execution": {
     "iopub.execute_input": "2022-09-12T02:58:49.775975Z",
     "iopub.status.busy": "2022-09-12T02:58:49.775703Z",
     "iopub.status.idle": "2022-09-12T13:21:03.111842Z",
     "shell.execute_reply": "2022-09-12T13:21:03.110679Z"
    },
    "papermill": {
     "duration": 37334.041481,
     "end_time": "2022-09-12T13:21:03.811961",
     "exception": false,
     "start_time": "2022-09-12T02:58:49.770480",
     "status": "completed"
    },
    "tags": []
   },
   "outputs": [],
   "source": [
    "filepath=\"DenseNet201.h5\"\n",
    "checkpoint = ModelCheckpoint(filepath=filepath,\n",
    "        save_weights_only=False,\n",
    "        monitor='val_accuracy', \n",
    "        mode='max',\n",
    "        save_best_only=True)\n",
    "\n",
    "resnet_training = resnet_model.fit(train_generator,\n",
    "                               steps_per_epoch = steps_per_epoch,\n",
    "                               epochs = epoch,\n",
    "                               validation_data = validation_generator,\n",
    "                               validation_steps = validation_steps,\n",
    "                               callbacks=[checkpoint])"
   ]
  },
  {
   "cell_type": "code",
   "execution_count": null,
   "metadata": {
    "execution": {
     "iopub.execute_input": "2022-09-12T13:21:09.144468Z",
     "iopub.status.busy": "2022-09-12T13:21:09.143901Z",
     "iopub.status.idle": "2022-09-12T13:21:09.416924Z",
     "shell.execute_reply": "2022-09-12T13:21:09.415963Z"
    },
    "papermill": {
     "duration": 3.319171,
     "end_time": "2022-09-12T13:21:09.419076",
     "exception": false,
     "start_time": "2022-09-12T13:21:06.099905",
     "status": "completed"
    },
    "tags": []
   },
   "outputs": [],
   "source": [
    "plt.figure(figsize=(8,8),dpi=80)\n",
    "plt.plot(resnet_training.history['accuracy'])\n",
    "plt.plot(resnet_training.history['val_accuracy'])\n",
    "plt.title(\"model accuracy\")\n",
    "plt.ylabel(\"Accuracy\")\n",
    "plt.xlabel(\"epoch\")\n",
    "plt.legend([\"train\",\"test\"],loc=\"lower right\")\n",
    "plt.show()"
   ]
  },
  {
   "cell_type": "code",
   "execution_count": null,
   "metadata": {
    "execution": {
     "iopub.execute_input": "2022-09-12T13:21:13.916544Z",
     "iopub.status.busy": "2022-09-12T13:21:13.915308Z",
     "iopub.status.idle": "2022-09-12T13:21:14.126086Z",
     "shell.execute_reply": "2022-09-12T13:21:14.124997Z"
    },
    "papermill": {
     "duration": 2.542156,
     "end_time": "2022-09-12T13:21:14.128254",
     "exception": false,
     "start_time": "2022-09-12T13:21:11.586098",
     "status": "completed"
    },
    "tags": []
   },
   "outputs": [],
   "source": [
    "plt.figure(figsize=(8,8),dpi=80)\n",
    "plt.plot(resnet_training.history['loss'])\n",
    "plt.plot(resnet_training.history['val_loss'])\n",
    "plt.title(\"model loss\")\n",
    "plt.ylabel(\"loss\")\n",
    "plt.xlabel(\"epoch\")\n",
    "plt.legend([\"train\",\"test\"],loc=\"lower right\")\n",
    "plt.show()"
   ]
  },
  {
   "cell_type": "code",
   "execution_count": null,
   "metadata": {
    "execution": {
     "iopub.execute_input": "2022-09-12T13:21:18.940573Z",
     "iopub.status.busy": "2022-09-12T13:21:18.940041Z",
     "iopub.status.idle": "2022-09-12T13:22:51.330780Z",
     "shell.execute_reply": "2022-09-12T13:22:51.329618Z"
    },
    "papermill": {
     "duration": 97.021195,
     "end_time": "2022-09-12T13:22:53.707452",
     "exception": false,
     "start_time": "2022-09-12T13:21:16.686257",
     "status": "completed"
    },
    "tags": []
   },
   "outputs": [],
   "source": [
    "Y_pred_res = resnet_model.predict_generator(test_generator, num_of_test_samples // batch_size+1)\n",
    "y_pred_resnet = np.argmax(Y_pred_res, axis=1)\n",
    "print('Confusion Matrix')\n",
    "conf_matrix_res = confusion_matrix(test_generator.classes, y_pred_resnet)\n",
    "cm_res = np.array2string(conf_matrix_res)\n",
    "print(conf_matrix_res)\n",
    "print(\"=============================================================================================\")\n",
    "print('Classification Report')\n",
    "class_rep_res = classification_report(test_generator.classes, y_pred_resnet, target_names=target_names)\n",
    "print(class_rep_res)"
   ]
  }
 ],
 "metadata": {
  "kernelspec": {
   "display_name": "Python 3",
   "language": "python",
   "name": "python3"
  },
  "language_info": {
   "codemirror_mode": {
    "name": "ipython",
    "version": 3
   },
   "file_extension": ".py",
   "mimetype": "text/x-python",
   "name": "python",
   "nbconvert_exporter": "python",
   "pygments_lexer": "ipython3",
   "version": "3.8.3"
  },
  "papermill": {
   "default_parameters": {},
   "duration": 37525.826809,
   "end_time": "2022-09-12T13:22:59.110862",
   "environment_variables": {},
   "exception": null,
   "input_path": "__notebook__.ipynb",
   "output_path": "__notebook__.ipynb",
   "parameters": {},
   "start_time": "2022-09-12T02:57:33.284053",
   "version": "2.3.4"
  }
 },
 "nbformat": 4,
 "nbformat_minor": 5
}
