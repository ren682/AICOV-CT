{
 "cells": [
  {
   "cell_type": "code",
   "execution_count": null,
   "metadata": {
    "execution": {
     "iopub.execute_input": "2022-11-25T01:27:18.959198Z",
     "iopub.status.busy": "2022-11-25T01:27:18.958728Z",
     "iopub.status.idle": "2022-11-25T01:27:18.965428Z",
     "shell.execute_reply": "2022-11-25T01:27:18.964107Z",
     "shell.execute_reply.started": "2022-11-25T01:27:18.959151Z"
    }
   },
   "outputs": [],
   "source": [
    "import os\n",
    "import cv2\n",
    "import numpy as np\n",
    "import tensorflow as tf\n",
    "import matplotlib.pyplot as plt\n",
    "import pandas as pd"
   ]
  },
  {
   "cell_type": "markdown",
   "metadata": {},
   "source": [
    "## Useful functions\n",
    "The functions below provide model loading, data loading and preprocessing, Grad-CAM, and inference capabilities."
   ]
  },
  {
   "cell_type": "code",
   "execution_count": null,
   "metadata": {
    "execution": {
     "iopub.execute_input": "2022-11-25T01:27:18.967343Z",
     "iopub.status.busy": "2022-11-25T01:27:18.967052Z",
     "iopub.status.idle": "2022-11-25T01:27:18.992289Z",
     "shell.execute_reply": "2022-11-25T01:27:18.991499Z",
     "shell.execute_reply.started": "2022-11-25T01:27:18.967315Z"
    }
   },
   "outputs": [],
   "source": [
    "def create_session():\n",
    "    \"\"\"Helper function for session creation\"\"\"\n",
    "    config = tf.ConfigProto()\n",
    "    config.gpu_options.allow_growth = True\n",
    "    sess = tf.Session(config=config)\n",
    "    return sess\n",
    "\n",
    "def load_graph(meta_file):\n",
    "    \"\"\"Creates new graph and session\"\"\"\n",
    "    graph = tf.Graph()\n",
    "    with graph.as_default():\n",
    "        # Create session and load model\n",
    "        sess = create_session()\n",
    "\n",
    "        # Load meta file\n",
    "        print('Loading meta graph from ' + meta_file)\n",
    "        saver = tf.train.import_meta_graph(meta_file, clear_devices=True)\n",
    "    return graph, sess, saver\n",
    "\n",
    "def load_ckpt(ckpt, sess, saver):\n",
    "    \"\"\"Helper for loading weights\"\"\"\n",
    "    # Load weights\n",
    "    if ckpt is not None:\n",
    "        print('Loading weights from ' + ckpt)\n",
    "        saver.restore(sess, ckpt)\n",
    "\n",
    "def load_labels(label_file):\n",
    "    \"\"\"Loads image filenames, classes, and bounding boxes\"\"\"\n",
    "    fnames, classes, bboxes = [], [], []\n",
    "    with open(label_file, 'r') as f:\n",
    "        for line in f.readlines():\n",
    "            fname, cls, xmin, ymin, xmax, ymax = line.strip('\\n').split()\n",
    "            fnames.append(fname)\n",
    "            classes.append(int(cls))\n",
    "            bboxes.append((int(xmin), int(ymin), int(xmax), int(ymax)))\n",
    "    return fnames, classes, bboxes\n",
    "\n",
    "def load_and_preprocess(image_file, bbox=None, width=512, height=512):\n",
    "    \"\"\"Loads and preprocesses images for inference\"\"\"\n",
    "    # Load and crop image\n",
    "    image = cv2.imread(image_file, cv2.IMREAD_GRAYSCALE)\n",
    "    if bbox is not None:\n",
    "        image = image[bbox[1]:bbox[3], bbox[0]:bbox[2]]\n",
    "    image = cv2.resize(image, (width, height), cv2.INTER_CUBIC)\n",
    "\n",
    "    # Convert to float in range [0, 1] and stack to 3-channel\n",
    "    image = image.astype(np.float32) / 255.0\n",
    "    image = np.expand_dims(np.stack((image, image, image), axis=-1), axis=0)\n",
    "    \n",
    "    return image\n",
    "\n",
    "\n",
    "def make_gradcam_graph(graph):\n",
    "    \"\"\"Adds additional ops to the given graph for Grad-CAM\"\"\"\n",
    "    with graph.as_default():\n",
    "        # Get required tensors\n",
    "        final_conv = graph.get_tensor_by_name(FINAL_CONV_TENSOR)\n",
    "        logits = graph.get_tensor_by_name(LOGITS_TENSOR)\n",
    "        preds = graph.get_tensor_by_name(CLASS_PRED_TENSOR)\n",
    "\n",
    "        # Get gradient\n",
    "        top_class_logits = logits[0, preds[0]]\n",
    "        grads = tf.gradients(top_class_logits, final_conv)[0]\n",
    "\n",
    "        # Comute per-channel average gradient\n",
    "        pooled_grads = tf.reduce_mean(grads, axis=(0, 1, 2))\n",
    "        \n",
    "    return final_conv, pooled_grads\n",
    "    \n",
    "\n",
    "def run_gradcam(final_conv, pooled_grads, sess, image):\n",
    "    \"\"\"Creates a Grad-CAM heatmap\"\"\"\n",
    "    with graph.as_default():\n",
    "        # Run model to compute activations, gradients, predictions, and confidences\n",
    "        final_conv_out, pooled_grads_out, class_pred, class_prob = sess.run(\n",
    "            [final_conv, pooled_grads, CLASS_PRED_TENSOR, CLASS_PROB_TENSOR],\n",
    "            feed_dict={IMAGE_INPUT_TENSOR: image, TRAINING_PH_TENSOR: False})\n",
    "        final_conv_out = final_conv_out[0]\n",
    "        class_pred = class_pred[0]\n",
    "        class_prob = class_prob[0, class_pred]\n",
    "        \n",
    "        # Compute heatmap as gradient-weighted mean of activations\n",
    "        for i in range(pooled_grads_out.shape[0]):\n",
    "            final_conv_out[..., i] *= pooled_grads_out[i]\n",
    "        heatmap = np.mean(final_conv_out, axis=-1)\n",
    "\n",
    "        # Convert to [0, 1] range\n",
    "        heatmap = np.maximum(heatmap, 0)/np.max(heatmap)\n",
    "        \n",
    "        # Resize to image dimensions\n",
    "        heatmap = cv2.resize(heatmap, (image.shape[2], image.shape[1]))\n",
    "        \n",
    "    return heatmap, class_pred, class_prob\n",
    "\n",
    "    \n",
    "def run_inference(graph, sess, images, batch_size=1):\n",
    "    \"\"\"Runs inference on one or more images\"\"\"\n",
    "    # Create feed dict\n",
    "    feed_dict = {TRAINING_PH_TENSOR: False}\n",
    "\n",
    "    # Run inference\n",
    "    with graph.as_default():\n",
    "        classes, confidences = [], []\n",
    "        num_batches = int(np.ceil(images.shape[0]/batch_size))\n",
    "        for i in range(num_batches):\n",
    "            # Get batch and add it to the feed dict\n",
    "            feed_dict[IMAGE_INPUT_TENSOR] = images[i*batch_size:(i + 1)*batch_size, ...]\n",
    "\n",
    "            # Run images through model\n",
    "            preds, probs = sess.run([CLASS_PRED_TENSOR, CLASS_PROB_TENSOR], feed_dict=feed_dict)\n",
    "\n",
    "            # Add results to list\n",
    "            classes.append(preds)\n",
    "            confidences.append(probs)\n",
    "\n",
    "    classes = np.concatenate(classes, axis=0)\n",
    "    confidences = np.concatenate(confidences, axis=0)\n",
    "\n",
    "    return classes, confidences\n",
    "\n",
    "\n",
    "def stacked_bar(ax, probs):\n",
    "    \"\"\"Creates a stacked bar graph of slice-wise predictions\"\"\"\n",
    "    x = list(range(probs.shape[0]))\n",
    "    width = 0.8\n",
    "    ax.bar(x, probs[:, 0], width, color='g')\n",
    "    ax.bar(x, probs[:, 1], width, bottom=probs[:, 0], color='r')\n",
    "    ax.bar(x, probs[:, 2], width, bottom=probs[:, :2].sum(axis=1), color='b')\n",
    "    ax.set_ylabel('Confidence')\n",
    "    ax.set_xlabel('Slice Index')\n",
    "    ax.set_title('Class Confidences by Slice')\n",
    "    ax.legend(CLASS_NAMES, loc='upper right')"
   ]
  },
  {
   "cell_type": "markdown",
   "metadata": {},
   "source": [
    "## Loading the model and checkpoint\n",
    "This cell loads the graph and checkpoint, and also adds additional ops for producing Grad-CAM visualizations."
   ]
  },
  {
   "cell_type": "code",
   "execution_count": null,
   "metadata": {
    "execution": {
     "iopub.execute_input": "2022-11-25T01:27:18.994861Z",
     "iopub.status.busy": "2022-11-25T01:27:18.994416Z",
     "iopub.status.idle": "2022-11-25T01:27:20.312887Z",
     "shell.execute_reply": "2022-11-25T01:27:20.311935Z",
     "shell.execute_reply.started": "2022-11-25T01:27:18.994812Z"
    }
   },
   "outputs": [],
   "source": [
    "# Create full paths\n",
    "meta_file = os.path.join(MODEL_DIR, META_NAME)\n",
    "ckpt = os.path.join(MODEL_DIR, CKPT_NAME)\n",
    "\n",
    "# Load metagraph and create session\n",
    "graph, sess, saver = load_graph(meta_file)\n",
    "\n",
    "# Load checkpoint\n",
    "with graph.as_default():\n",
    "    load_ckpt(ckpt, sess, saver)\n",
    "final_conv, pooled_grads = make_gradcam_graph(graph)"
   ]
  },
  {
   "cell_type": "markdown",
   "metadata": {},
   "source": [
    "## Inference with Grad-CAM\n",
    "The image files may be set to any images you wish to test. Grad-CAM heatmaps will be computed for the predicted class to show which regions are being leveraged by the model during inference."
   ]
  },
  {
   "cell_type": "code",
   "execution_count": null,
   "metadata": {
    "execution": {
     "iopub.execute_input": "2022-11-25T01:27:20.314830Z",
     "iopub.status.busy": "2022-11-25T01:27:20.314504Z",
     "iopub.status.idle": "2022-11-25T01:27:20.591145Z",
     "shell.execute_reply": "2022-11-25T01:27:20.590230Z",
     "shell.execute_reply.started": "2022-11-25T01:27:20.314799Z"
    }
   },
   "outputs": [],
   "source": [
    "# Select image file\n",
    "idx = 22585\n",
    "filenames, classes, bboxes = load_labels(LABEL_FILE)\n",
    "image_file = os.path.join(IMAGE_DIR, filenames[idx])\n",
    "cls = classes[idx]\n",
    "bbox = bboxes[idx]"
   ]
  },
  {
   "cell_type": "code",
   "execution_count": null,
   "metadata": {
    "execution": {
     "iopub.execute_input": "2022-11-25T01:27:20.592830Z",
     "iopub.status.busy": "2022-11-25T01:27:20.592521Z",
     "iopub.status.idle": "2022-11-25T01:27:22.264474Z",
     "shell.execute_reply": "2022-11-25T01:27:22.263338Z",
     "shell.execute_reply.started": "2022-11-25T01:27:20.592800Z"
    }
   },
   "outputs": [],
   "source": [
    "# Prepare image\n",
    "image = load_and_preprocess(image_file, bbox)\n",
    "\n",
    "# Run Grad-CAM\n",
    "heatmap, class_pred, class_prob = run_gradcam(\n",
    "    final_conv, pooled_grads, sess, image)\n",
    "\n",
    "# Show image\n",
    "fig, ax = plt.subplots(1, 2, figsize=(10, 5))\n",
    "plt.subplots_adjust(hspace=0.01)\n",
    "ax[0].imshow(image[0])\n",
    "plt.suptitle('Predicted Class: {} ({:.3f} confidence)\\nTrue Class: {}'.format(CLASS_NAMES[class_pred], class_prob, CLASS_NAMES[cls]))\n",
    "ax[1].imshow(image[0])\n",
    "ax[1].imshow(heatmap, cmap='jet', alpha=0.4)\n",
    "\n",
    "print('**DISCLAIMER**')\n",
    "print('Do not use this prediction for self-diagnosis. '\n",
    "      'You should check with your local authorities for '\n",
    "      'the latest advice on seeking medical assistance.')\n",
    "plt.show()"
   ]
  },
  {
   "cell_type": "code",
   "execution_count": null,
   "metadata": {
    "execution": {
     "iopub.execute_input": "2022-11-25T01:27:22.266093Z",
     "iopub.status.busy": "2022-11-25T01:27:22.265764Z",
     "iopub.status.idle": "2022-11-25T01:27:22.296051Z",
     "shell.execute_reply": "2022-11-25T01:27:22.294932Z",
     "shell.execute_reply.started": "2022-11-25T01:27:22.266060Z"
    }
   },
   "outputs": [],
   "source": [
    "test_df = pd.read_csv(\"/kaggle/input/train-val-test-datasets/test_df.csv\")"
   ]
  },
  {
   "cell_type": "code",
   "execution_count": null,
   "metadata": {
    "execution": {
     "iopub.execute_input": "2022-11-25T01:35:02.846954Z",
     "iopub.status.busy": "2022-11-25T01:35:02.846258Z",
     "iopub.status.idle": "2022-11-25T01:35:02.854161Z",
     "shell.execute_reply": "2022-11-25T01:35:02.852858Z",
     "shell.execute_reply.started": "2022-11-25T01:35:02.846915Z"
    }
   },
   "outputs": [],
   "source": [
    "print(image_file)\n",
    "print(image_file2)\n",
    "image_file1"
   ]
  },
  {
   "cell_type": "code",
   "execution_count": null,
   "metadata": {
    "execution": {
     "iopub.execute_input": "2022-11-25T01:27:22.307201Z",
     "iopub.status.busy": "2022-11-25T01:27:22.306896Z",
     "iopub.status.idle": "2022-11-25T01:27:22.317105Z",
     "shell.execute_reply": "2022-11-25T01:27:22.315922Z",
     "shell.execute_reply.started": "2022-11-25T01:27:22.307172Z"
    }
   },
   "outputs": [],
   "source": [
    "LABEL_FILE"
   ]
  },
  {
   "cell_type": "code",
   "execution_count": null,
   "metadata": {
    "execution": {
     "iopub.execute_input": "2022-11-25T01:34:49.335744Z",
     "iopub.status.busy": "2022-11-25T01:34:49.335375Z",
     "iopub.status.idle": "2022-11-25T01:34:52.631813Z",
     "shell.execute_reply": "2022-11-25T01:34:52.627214Z",
     "shell.execute_reply.started": "2022-11-25T01:34:49.335708Z"
    }
   },
   "outputs": [],
   "source": [
    "plt.figure(figsize=(14,10),dpi=100)\n",
    "plt.subplots_adjust(hspace=0.01)\n",
    "# 绘制第一个子图\n",
    "# Prepare image\n",
    "# Select image file\n",
    "idx = 19574\n",
    "filenames, classes, bboxes = load_labels(LABEL_FILE)\n",
    "image_file = os.path.join(IMAGE_DIR, filenames[idx])\n",
    "cls = classes[idx]\n",
    "bbox = bboxes[idx]\n",
    "image = load_and_preprocess(image_file, bbox)\n",
    "# Run Grad-CAM\n",
    "heatmap, class_pred, class_prob = run_gradcam(\n",
    "    final_conv, pooled_grads, sess, image)\n",
    "plt.subplot(2,3,1)\n",
    "plt.axis('off')\n",
    "plt.imshow(image[0])\n",
    "plt.subplot(2,3,4)\n",
    "plt.axis('off')\n",
    "plt.imshow(image[0])\n",
    "plt.imshow(heatmap, cmap='jet', alpha=0.4)\n",
    "plt.tight_layout()\n",
    "\n",
    "# Select image file\n",
    "idx1 = 18594\n",
    "filenames, classes, bboxes = load_labels(LABEL_FILE)\n",
    "image_file1 = os.path.join(IMAGE_DIR, filenames[idx1])\n",
    "cls1 = classes[idx1]\n",
    "bbox1 = bboxes[idx1]\n",
    "image1 = load_and_preprocess(image_file1, bbox1)\n",
    "# Run Grad-CAM\n",
    "heatmap1, class_pred1, class_prob1 = run_gradcam(\n",
    "    final_conv, pooled_grads, sess, image1)\n",
    "plt.subplot(2,3,2)\n",
    "plt.axis('off')\n",
    "plt.imshow(image1[0])\n",
    "plt.subplot(2,3,5)\n",
    "plt.axis('off')\n",
    "plt.imshow(image1[0])\n",
    "plt.imshow(heatmap1, cmap='jet', alpha=0.4)\n",
    "plt.tight_layout()\n",
    "\n",
    "# Select image file\n",
    "idx2 = 18895\n",
    "filenames, classes, bboxes = load_labels(LABEL_FILE)\n",
    "image_file2 = os.path.join(IMAGE_DIR, filenames[idx2])\n",
    "cls2 = classes[idx2]\n",
    "bbox2 = bboxes[idx2]\n",
    "image2 = load_and_preprocess(image_file2, bbox2)\n",
    "# Run Grad-CAM\n",
    "heatmap2, class_pred2, class_prob2 = run_gradcam(\n",
    "    final_conv, pooled_grads, sess, image2)\n",
    "plt.subplot(2,3,3)\n",
    "plt.axis('off')\n",
    "plt.imshow(image2[0])\n",
    "plt.subplot(2,3,6)\n",
    "plt.axis('off')\n",
    "plt.imshow(image2[0])\n",
    "plt.imshow(heatmap2, cmap='jet', alpha=0.4)\n",
    "plt.tight_layout()\n",
    "\n",
    "plt.savefig(\"normal.png\")"
   ]
  },
  {
   "cell_type": "code",
   "execution_count": null,
   "metadata": {},
   "outputs": [],
   "source": []
  }
 ],
 "metadata": {
  "kernelspec": {
   "display_name": "Python 3",
   "language": "python",
   "name": "python3"
  },
  "language_info": {
   "codemirror_mode": {
    "name": "ipython",
    "version": 3
   },
   "file_extension": ".py",
   "mimetype": "text/x-python",
   "name": "python",
   "nbconvert_exporter": "python",
   "pygments_lexer": "ipython3",
   "version": "3.8.3"
  }
 },
 "nbformat": 4,
 "nbformat_minor": 4
}
