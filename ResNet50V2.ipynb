{
 "cells": [
  {
   "cell_type": "code",
   "execution_count": null,
   "metadata": {
    "execution": {
     "iopub.execute_input": "2022-09-12T02:46:48.420967Z",
     "iopub.status.busy": "2022-09-12T02:46:48.418397Z",
     "iopub.status.idle": "2022-09-12T02:46:54.862037Z",
     "shell.execute_reply": "2022-09-12T02:46:54.861050Z"
    },
    "papermill": {
     "duration": 6.459526,
     "end_time": "2022-09-12T02:46:54.864483",
     "exception": false,
     "start_time": "2022-09-12T02:46:48.404957",
     "status": "completed"
    },
    "tags": []
   },
   "outputs": [],
   "source": [
    "import numpy as np\n",
    "import pandas as pd\n",
    "import os\n",
    "import sys\n",
    "import shutil\n",
    "import matplotlib.pyplot as plt\n",
    "import pylab as pl\n",
    "from tensorflow.keras import backend as K\n",
    "from tensorflow.keras.models import Sequential\n",
    "from tensorflow.keras import optimizers\n",
    "from tensorflow.keras.preprocessing.image import ImageDataGenerator\n",
    "from tensorflow.keras.callbacks import History \n",
    "from sklearn.metrics import classification_report, confusion_matrix, roc_curve, auc\n",
    "import tensorflow.keras\n",
    "\n",
    "import pandas as pd\n",
    "from sklearn.utils import shuffle\n",
    "import numpy as np\n",
    "import matplotlib.pyplot as plt\n",
    "import os\n",
    "import cv2\n",
    "import random\n",
    "import itertools\n",
    "\n",
    "import warnings\n",
    "warnings.filterwarnings('ignore')\n",
    "\n",
    "import tensorflow as tf\n",
    "from tensorflow.keras import *\n",
    "from tensorflow.keras.layers import *\n",
    "from tensorflow.keras.models import *\n",
    "from tensorflow.keras.callbacks import *\n",
    "from tensorflow.keras.optimizers import *\n",
    "from tensorflow.keras.utils import to_categorical\n",
    "from tensorflow.keras.metrics import categorical_crossentropy\n",
    "from tensorflow.keras.layers.experimental.preprocessing import RandomFlip, RandomRotation\n",
    "\n",
    "from sklearn.metrics import accuracy_score, confusion_matrix, classification_report\n",
    "from tensorflow.keras import models, regularizers, layers, optimizers, losses, metrics\n",
    "from tensorflow.keras.callbacks import ModelCheckpoint"
   ]
  },
  {
   "cell_type": "code",
   "execution_count": null,
   "metadata": {
    "execution": {
     "iopub.execute_input": "2022-09-12T02:46:54.872648Z",
     "iopub.status.busy": "2022-09-12T02:46:54.871835Z",
     "iopub.status.idle": "2022-09-12T02:46:54.876639Z",
     "shell.execute_reply": "2022-09-12T02:46:54.875669Z"
    },
    "papermill": {
     "duration": 0.010947,
     "end_time": "2022-09-12T02:46:54.878746",
     "exception": false,
     "start_time": "2022-09-12T02:46:54.867799",
     "status": "completed"
    },
    "tags": []
   },
   "outputs": [],
   "source": [
    "train = '../input/train-images-enhanced'\n",
    "val = '../input/val-test-images/val/val'\n",
    "test = '../input/val-test-images/test'"
   ]
  },
  {
   "cell_type": "code",
   "execution_count": null,
   "metadata": {
    "execution": {
     "iopub.execute_input": "2022-09-12T02:46:54.886104Z",
     "iopub.status.busy": "2022-09-12T02:46:54.885506Z",
     "iopub.status.idle": "2022-09-12T02:46:57.533559Z",
     "shell.execute_reply": "2022-09-12T02:46:57.532379Z"
    },
    "papermill": {
     "duration": 2.654527,
     "end_time": "2022-09-12T02:46:57.536302",
     "exception": false,
     "start_time": "2022-09-12T02:46:54.881775",
     "status": "completed"
    },
    "tags": []
   },
   "outputs": [],
   "source": [
    "# Total number of training images\n",
    "num_of_train_samples = 0\n",
    "for train_dataset in os.listdir(train):\n",
    "    in_folder = train + \"/\" + train_dataset \n",
    "    in_folder_list = os.listdir(in_folder)\n",
    "    num_of_train_samples = num_of_train_samples + len(in_folder_list)\n",
    "print(\"Number of training samples: \",num_of_train_samples)\n",
    "\n",
    "# Total number of validation images\n",
    "num_of_validation_samples = 0\n",
    "for validation_dataset in os.listdir(val):\n",
    "    in_folder_val = val + \"/\" + validation_dataset\n",
    "    in_folder_val_list = os.listdir(in_folder_val)\n",
    "    num_of_validation_samples = num_of_validation_samples + len(in_folder_val_list)\n",
    "print(\"Number of validation samples: \", num_of_validation_samples)\n",
    "\n",
    "num_of_test_samples = 0\n",
    "for test_dataset in os.listdir(test):\n",
    "    in_folder_test = test + \"/\" + test_dataset\n",
    "    in_folder_test_list = os.listdir(in_folder_test)\n",
    "    num_of_test_samples = num_of_test_samples + len(in_folder_test_list)\n",
    "print(\"Number of test samples: \", num_of_test_samples)"
   ]
  },
  {
   "cell_type": "code",
   "execution_count": null,
   "metadata": {
    "execution": {
     "iopub.execute_input": "2022-09-12T02:46:57.544798Z",
     "iopub.status.busy": "2022-09-12T02:46:57.543991Z",
     "iopub.status.idle": "2022-09-12T02:46:57.549804Z",
     "shell.execute_reply": "2022-09-12T02:46:57.548938Z"
    },
    "papermill": {
     "duration": 0.012044,
     "end_time": "2022-09-12T02:46:57.551916",
     "exception": false,
     "start_time": "2022-09-12T02:46:57.539872",
     "status": "completed"
    },
    "tags": []
   },
   "outputs": [],
   "source": [
    "train_datagen = ImageDataGenerator(rescale=1. / 255,\n",
    "                                   rotation_range=40,    \n",
    "                                   width_shift_range=0.2,\n",
    "                                   height_shift_range=0.2,\n",
    "                                   shear_range=0.2,\n",
    "                                   zoom_range=0.2,\n",
    "                                   horizontal_flip=True)\n",
    "val_datagen = ImageDataGenerator(rescale=1. / 255)"
   ]
  },
  {
   "cell_type": "code",
   "execution_count": null,
   "metadata": {
    "execution": {
     "iopub.execute_input": "2022-09-12T02:46:57.559386Z",
     "iopub.status.busy": "2022-09-12T02:46:57.559107Z",
     "iopub.status.idle": "2022-09-12T02:46:57.563283Z",
     "shell.execute_reply": "2022-09-12T02:46:57.562373Z"
    },
    "papermill": {
     "duration": 0.010216,
     "end_time": "2022-09-12T02:46:57.565310",
     "exception": false,
     "start_time": "2022-09-12T02:46:57.555094",
     "status": "completed"
    },
    "tags": []
   },
   "outputs": [],
   "source": [
    "batch_size = 32\n",
    "target_names = ['COVID', 'PNEUMONIA', 'NORMAL']\n",
    "\n",
    "# Defining image width and height respectively\n",
    "img_rows = 224\n",
    "img_cols = 224"
   ]
  },
  {
   "cell_type": "code",
   "execution_count": null,
   "metadata": {
    "execution": {
     "iopub.execute_input": "2022-09-12T02:46:57.572910Z",
     "iopub.status.busy": "2022-09-12T02:46:57.572644Z",
     "iopub.status.idle": "2022-09-12T02:47:49.261087Z",
     "shell.execute_reply": "2022-09-12T02:47:49.259343Z"
    },
    "papermill": {
     "duration": 51.694691,
     "end_time": "2022-09-12T02:47:49.263172",
     "exception": false,
     "start_time": "2022-09-12T02:46:57.568481",
     "status": "completed"
    },
    "tags": []
   },
   "outputs": [],
   "source": [
    "train_generator = train_datagen.flow_from_directory(train,\n",
    "                                                    target_size = (img_rows, img_cols),\n",
    "                                                    batch_size = batch_size,\n",
    "                                                    class_mode = 'categorical')\n",
    "\n",
    "validation_generator = val_datagen.flow_from_directory(val,\n",
    "                                                        target_size = (img_rows, img_cols),\n",
    "                                                        batch_size = batch_size,\n",
    "                                                        shuffle = False, class_mode='categorical')\n",
    "\n",
    "test_generator = val_datagen.flow_from_directory(test,\n",
    "                                                target_size = (img_rows, img_cols),\n",
    "                                                batch_size = batch_size,\n",
    "                                                shuffle = False, class_mode='categorical')"
   ]
  },
  {
   "cell_type": "code",
   "execution_count": null,
   "metadata": {
    "execution": {
     "iopub.execute_input": "2022-09-12T02:47:49.271579Z",
     "iopub.status.busy": "2022-09-12T02:47:49.271294Z",
     "iopub.status.idle": "2022-09-12T02:47:49.280658Z",
     "shell.execute_reply": "2022-09-12T02:47:49.279675Z"
    },
    "papermill": {
     "duration": 0.015872,
     "end_time": "2022-09-12T02:47:49.282678",
     "exception": false,
     "start_time": "2022-09-12T02:47:49.266806",
     "status": "completed"
    },
    "tags": []
   },
   "outputs": [],
   "source": [
    "def plot_confusion_matrix(cm, classes,\n",
    "                          normalize=False,\n",
    "                          title='Confusion matrix',\n",
    "                          cmap=plt.cm.Blues):\n",
    "    \"\"\"\n",
    "    This function prints and plots the confusion matrix.\n",
    "    Normalization can be applied by setting `normalize=True`.\n",
    "    \"\"\"\n",
    "    if normalize:\n",
    "        cm = cm.astype('float') / cm.sum(axis=1)[:, np.newaxis]\n",
    "        print(\"Normalized Confusion Matrix\")\n",
    "    else:\n",
    "        print('Unnormalized Confusion Matrix')\n",
    "    \n",
    "    import itertools\n",
    "    print(cm)\n",
    "    plt.figure(figsize=(8, 8))\n",
    "    plt.imshow(cm, interpolation='nearest', cmap=cmap)\n",
    "    plt.title(title)\n",
    "    plt.colorbar()\n",
    "    tick_marks = np.arange(len(classes))\n",
    "    plt.xticks(tick_marks, classes, rotation=45)\n",
    "    plt.yticks(tick_marks, classes)\n",
    "\n",
    "    fmt = '.2f' if normalize else 'd'\n",
    "    thresh = cm.max() / 2.\n",
    "    for i, j in itertools.product(range(cm.shape[0]), range(cm.shape[1])):\n",
    "        plt.text(j, i, format(cm[i, j], fmt),\n",
    "                 horizontalalignment=\"center\",\n",
    "                 color=\"white\" if cm[i, j] > thresh else \"black\")\n",
    "\n",
    "    plt.ylabel('Classe Real')\n",
    "    plt.xlabel('Classe Predita')\n",
    "    plt.tight_layout()"
   ]
  },
  {
   "cell_type": "code",
   "execution_count": null,
   "metadata": {
    "execution": {
     "iopub.execute_input": "2022-09-12T02:47:49.291454Z",
     "iopub.status.busy": "2022-09-12T02:47:49.290711Z",
     "iopub.status.idle": "2022-09-12T02:47:49.297363Z",
     "shell.execute_reply": "2022-09-12T02:47:49.296093Z"
    },
    "papermill": {
     "duration": 0.012875,
     "end_time": "2022-09-12T02:47:49.299295",
     "exception": false,
     "start_time": "2022-09-12T02:47:49.286420",
     "status": "completed"
    },
    "tags": []
   },
   "outputs": [],
   "source": [
    "steps_per_epoch = num_of_train_samples // batch_size\n",
    "validation_steps = num_of_validation_samples // batch_size\n",
    "epoch = 12\n",
    "print(\"The incoming data for each epoch of the training set: \",steps_per_epoch)\n",
    "print(\"Validate the data passed in for each epoch of the set: \",validation_steps)\n",
    "learning_rate = 0.01"
   ]
  },
  {
   "cell_type": "code",
   "execution_count": null,
   "metadata": {
    "execution": {
     "iopub.execute_input": "2022-09-12T02:47:49.307761Z",
     "iopub.status.busy": "2022-09-12T02:47:49.307103Z",
     "iopub.status.idle": "2022-09-12T02:47:54.193784Z",
     "shell.execute_reply": "2022-09-12T02:47:54.192780Z"
    },
    "papermill": {
     "duration": 4.893504,
     "end_time": "2022-09-12T02:47:54.196313",
     "exception": false,
     "start_time": "2022-09-12T02:47:49.302809",
     "status": "completed"
    },
    "tags": []
   },
   "outputs": [],
   "source": [
    "from tensorflow.keras.applications import InceptionV3,DenseNet201,VGG19,ResNet50V2,MobileNetV2\n",
    "resnet_model = Sequential()\n",
    "resnet_model.add(ResNet50V2(include_top=False, \n",
    "                   pooling='max', \n",
    "                   weights='imagenet'))\n",
    "resnet_model.add(Flatten())\n",
    "resnet_model.add(layers.Dropout(0.4))\n",
    "resnet_model.add(Dense(256, activation = \"relu\"))\n",
    "resnet_model.add(BatchNormalization())\n",
    "resnet_model.add(Dense(3, activation='softmax'))"
   ]
  },
  {
   "cell_type": "code",
   "execution_count": null,
   "metadata": {
    "execution": {
     "iopub.execute_input": "2022-09-12T02:47:54.206829Z",
     "iopub.status.busy": "2022-09-12T02:47:54.206119Z",
     "iopub.status.idle": "2022-09-12T02:47:54.221584Z",
     "shell.execute_reply": "2022-09-12T02:47:54.220772Z"
    },
    "papermill": {
     "duration": 0.022773,
     "end_time": "2022-09-12T02:47:54.223590",
     "exception": false,
     "start_time": "2022-09-12T02:47:54.200817",
     "status": "completed"
    },
    "tags": []
   },
   "outputs": [],
   "source": [
    "resnet_model.compile(loss=\"categorical_crossentropy\",\n",
    "              optimizer=optimizers.Adam(lr=learning_rate),\n",
    "              metrics=[\"accuracy\"])"
   ]
  },
  {
   "cell_type": "code",
   "execution_count": null,
   "metadata": {
    "execution": {
     "iopub.execute_input": "2022-09-12T02:47:54.233179Z",
     "iopub.status.busy": "2022-09-12T02:47:54.232886Z",
     "iopub.status.idle": "2022-09-12T13:11:13.878542Z",
     "shell.execute_reply": "2022-09-12T13:11:13.877403Z"
    },
    "papermill": {
     "duration": 37402.036293,
     "end_time": "2022-09-12T13:11:16.264207",
     "exception": false,
     "start_time": "2022-09-12T02:47:54.227914",
     "status": "completed"
    },
    "tags": []
   },
   "outputs": [],
   "source": [
    "filepath=\"ResNet50V2.h5\"\n",
    "checkpoint = ModelCheckpoint(filepath=filepath,\n",
    "        save_weights_only=False,\n",
    "        monitor='val_accuracy',   \n",
    "        mode='max',\n",
    "        save_best_only=True)\n",
    "\n",
    "resnet_training = resnet_model.fit(train_generator,\n",
    "                               steps_per_epoch = steps_per_epoch,\n",
    "                               epochs = epoch,\n",
    "                               validation_data = validation_generator,\n",
    "                               validation_steps = validation_steps,\n",
    "                               callbacks=[checkpoint])"
   ]
  },
  {
   "cell_type": "code",
   "execution_count": null,
   "metadata": {
    "execution": {
     "iopub.execute_input": "2022-09-12T13:11:21.134543Z",
     "iopub.status.busy": "2022-09-12T13:11:21.134088Z",
     "iopub.status.idle": "2022-09-12T13:11:21.516776Z",
     "shell.execute_reply": "2022-09-12T13:11:21.515621Z"
    },
    "papermill": {
     "duration": 2.874622,
     "end_time": "2022-09-12T13:11:21.519506",
     "exception": false,
     "start_time": "2022-09-12T13:11:18.644884",
     "status": "completed"
    },
    "tags": []
   },
   "outputs": [],
   "source": [
    "plt.figure(figsize=(8,8),dpi=80)\n",
    "plt.plot(resnet_training.history['accuracy'])\n",
    "plt.plot(resnet_training.history['val_accuracy'])\n",
    "plt.title(\"model accuracy\")\n",
    "plt.ylabel(\"Accuracy\")\n",
    "plt.xlabel(\"epoch\")\n",
    "plt.legend([\"train\",\"test\"],loc=\"lower right\")\n",
    "plt.show()"
   ]
  },
  {
   "cell_type": "code",
   "execution_count": null,
   "metadata": {
    "execution": {
     "iopub.execute_input": "2022-09-12T13:11:26.104549Z",
     "iopub.status.busy": "2022-09-12T13:11:26.104129Z",
     "iopub.status.idle": "2022-09-12T13:11:26.322432Z",
     "shell.execute_reply": "2022-09-12T13:11:26.321543Z"
    },
    "papermill": {
     "duration": 2.593535,
     "end_time": "2022-09-12T13:11:26.324462",
     "exception": false,
     "start_time": "2022-09-12T13:11:23.730927",
     "status": "completed"
    },
    "tags": []
   },
   "outputs": [],
   "source": [
    "plt.figure(figsize=(8,8),dpi=80)\n",
    "plt.plot(resnet_training.history['loss'])\n",
    "plt.plot(resnet_training.history['val_loss'])\n",
    "plt.title(\"model loss\")\n",
    "plt.ylabel(\"loss\")\n",
    "plt.xlabel(\"epoch\")\n",
    "plt.legend([\"train\",\"test\"],loc=\"lower right\")\n",
    "plt.show()"
   ]
  },
  {
   "cell_type": "code",
   "execution_count": null,
   "metadata": {
    "execution": {
     "iopub.execute_input": "2022-09-12T13:11:30.916371Z",
     "iopub.status.busy": "2022-09-12T13:11:30.915748Z",
     "iopub.status.idle": "2022-09-12T13:13:01.467189Z",
     "shell.execute_reply": "2022-09-12T13:13:01.466080Z"
    },
    "papermill": {
     "duration": 95.15222,
     "end_time": "2022-09-12T13:13:03.838562",
     "exception": false,
     "start_time": "2022-09-12T13:11:28.686342",
     "status": "completed"
    },
    "tags": []
   },
   "outputs": [],
   "source": [
    "Y_pred_res = resnet_model.predict_generator(test_generator, num_of_test_samples // batch_size+1)\n",
    "y_pred_resnet = np.argmax(Y_pred_res, axis=1)\n",
    "print('Confusion Matrix')\n",
    "conf_matrix_res = confusion_matrix(test_generator.classes, y_pred_resnet)\n",
    "cm_res = np.array2string(conf_matrix_res)\n",
    "print(conf_matrix_res)\n",
    "print(\"=============================================================================================\")\n",
    "print('Classification Report')\n",
    "class_rep_res = classification_report(test_generator.classes, y_pred_resnet, target_names=target_names)\n",
    "print(class_rep_res)"
   ]
  }
 ],
 "metadata": {
  "kernelspec": {
   "display_name": "Python 3",
   "language": "python",
   "name": "python3"
  },
  "language_info": {
   "codemirror_mode": {
    "name": "ipython",
    "version": 3
   },
   "file_extension": ".py",
   "mimetype": "text/x-python",
   "name": "python",
   "nbconvert_exporter": "python",
   "pygments_lexer": "ipython3",
   "version": "3.8.3"
  },
  "papermill": {
   "default_parameters": {},
   "duration": 37588.537568,
   "end_time": "2022-09-12T13:13:09.198986",
   "environment_variables": {},
   "exception": null,
   "input_path": "__notebook__.ipynb",
   "output_path": "__notebook__.ipynb",
   "parameters": {},
   "start_time": "2022-09-12T02:46:40.661418",
   "version": "2.3.4"
  }
 },
 "nbformat": 4,
 "nbformat_minor": 5
}
